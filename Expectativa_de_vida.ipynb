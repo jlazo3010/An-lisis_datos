{
  "nbformat": 4,
  "nbformat_minor": 0,
  "metadata": {
    "colab": {
      "name": "Expectativa de vida.ipynb",
      "provenance": [],
      "collapsed_sections": [],
      "mount_file_id": "12ErTHvdKsZlt1Xi_obx9mYQjujfhlcfA",
      "authorship_tag": "ABX9TyPVUGYEV16LvdDLJn6h8pOJ",
      "include_colab_link": true
    },
    "kernelspec": {
      "name": "python3",
      "display_name": "Python 3"
    },
    "language_info": {
      "name": "python"
    }
  },
  "cells": [
    {
      "cell_type": "markdown",
      "metadata": {
        "id": "view-in-github",
        "colab_type": "text"
      },
      "source": [
        "<a href=\"https://colab.research.google.com/github/jlazo3010/An-lisis_datos/blob/main/Expectativa_de_vida.ipynb\" target=\"_parent\"><img src=\"https://colab.research.google.com/assets/colab-badge.svg\" alt=\"Open In Colab\"/></a>"
      ]
    },
    {
      "cell_type": "code",
      "metadata": {
        "id": "PbmOKk8KjScj"
      },
      "source": [
        "import pandas as pd\n",
        "import numpy as np\n",
        "import matplotlib.pyplot as plt\n",
        "import matplotlib.patches as mpatches\n",
        "from sklearn.linear_model import LinearRegression\n",
        "from sklearn.model_selection import train_test_split\n",
        "from sklearn.preprocessing import PolynomialFeatures"
      ],
      "execution_count": 1,
      "outputs": []
    },
    {
      "cell_type": "code",
      "metadata": {
        "id": "9ndCG_hPjt0v"
      },
      "source": [
        "df = pd.read_csv('/content/drive/MyDrive/machinelearning/lifeExpectancy_world.csv')"
      ],
      "execution_count": 2,
      "outputs": []
    },
    {
      "cell_type": "code",
      "metadata": {
        "colab": {
          "base_uri": "https://localhost:8080/",
          "height": 241
        },
        "id": "VaxS3UWqjxz0",
        "outputId": "9dc2150e-f531-464b-9df2-563cb39c6e36"
      },
      "source": [
        "df.head() #Corroborar que los datos se cargaron bien y ver la estructura"
      ],
      "execution_count": null,
      "outputs": [
        {
          "output_type": "execute_result",
          "data": {
            "text/html": [
              "<div>\n",
              "<style scoped>\n",
              "    .dataframe tbody tr th:only-of-type {\n",
              "        vertical-align: middle;\n",
              "    }\n",
              "\n",
              "    .dataframe tbody tr th {\n",
              "        vertical-align: top;\n",
              "    }\n",
              "\n",
              "    .dataframe thead th {\n",
              "        text-align: right;\n",
              "    }\n",
              "</style>\n",
              "<table border=\"1\" class=\"dataframe\">\n",
              "  <thead>\n",
              "    <tr style=\"text-align: right;\">\n",
              "      <th></th>\n",
              "      <th>Entity</th>\n",
              "      <th>Code</th>\n",
              "      <th>1950</th>\n",
              "      <th>1951</th>\n",
              "      <th>1952</th>\n",
              "      <th>1953</th>\n",
              "      <th>1954</th>\n",
              "      <th>1955</th>\n",
              "      <th>1956</th>\n",
              "      <th>1957</th>\n",
              "      <th>1958</th>\n",
              "      <th>1959</th>\n",
              "      <th>1960</th>\n",
              "      <th>1961</th>\n",
              "      <th>1962</th>\n",
              "      <th>1963</th>\n",
              "      <th>1964</th>\n",
              "      <th>1965</th>\n",
              "      <th>1966</th>\n",
              "      <th>1967</th>\n",
              "      <th>1968</th>\n",
              "      <th>1969</th>\n",
              "      <th>1970</th>\n",
              "      <th>1971</th>\n",
              "      <th>1972</th>\n",
              "      <th>1973</th>\n",
              "      <th>1974</th>\n",
              "      <th>1975</th>\n",
              "      <th>1976</th>\n",
              "      <th>1977</th>\n",
              "      <th>1978</th>\n",
              "      <th>1979</th>\n",
              "      <th>1980</th>\n",
              "      <th>1981</th>\n",
              "      <th>1982</th>\n",
              "      <th>1983</th>\n",
              "      <th>1984</th>\n",
              "      <th>1985</th>\n",
              "      <th>1986</th>\n",
              "      <th>1987</th>\n",
              "      <th>1988</th>\n",
              "      <th>1989</th>\n",
              "      <th>1990</th>\n",
              "      <th>1991</th>\n",
              "      <th>1992</th>\n",
              "      <th>1993</th>\n",
              "      <th>1994</th>\n",
              "      <th>1995</th>\n",
              "      <th>1996</th>\n",
              "      <th>1997</th>\n",
              "      <th>1998</th>\n",
              "      <th>1999</th>\n",
              "      <th>2000</th>\n",
              "      <th>2001</th>\n",
              "      <th>2002</th>\n",
              "      <th>2003</th>\n",
              "      <th>2004</th>\n",
              "      <th>2005</th>\n",
              "      <th>2006</th>\n",
              "      <th>2007</th>\n",
              "      <th>2008</th>\n",
              "      <th>2009</th>\n",
              "      <th>2010</th>\n",
              "      <th>2011</th>\n",
              "      <th>2012</th>\n",
              "      <th>2013</th>\n",
              "      <th>2014</th>\n",
              "      <th>2015</th>\n",
              "      <th>2016</th>\n",
              "      <th>2017</th>\n",
              "      <th>2018</th>\n",
              "      <th>2019</th>\n",
              "    </tr>\n",
              "  </thead>\n",
              "  <tbody>\n",
              "    <tr>\n",
              "      <th>0</th>\n",
              "      <td>Afghanistan</td>\n",
              "      <td>AFG</td>\n",
              "      <td>27.638</td>\n",
              "      <td>27.878</td>\n",
              "      <td>28.361</td>\n",
              "      <td>28.852</td>\n",
              "      <td>29.350</td>\n",
              "      <td>29.854</td>\n",
              "      <td>30.365</td>\n",
              "      <td>30.882</td>\n",
              "      <td>31.403</td>\n",
              "      <td>31.925</td>\n",
              "      <td>32.446</td>\n",
              "      <td>32.962</td>\n",
              "      <td>33.471</td>\n",
              "      <td>33.971</td>\n",
              "      <td>34.463</td>\n",
              "      <td>34.948</td>\n",
              "      <td>35.430</td>\n",
              "      <td>35.914</td>\n",
              "      <td>36.403</td>\n",
              "      <td>36.900</td>\n",
              "      <td>37.409</td>\n",
              "      <td>37.930</td>\n",
              "      <td>38.461</td>\n",
              "      <td>39.003</td>\n",
              "      <td>39.558</td>\n",
              "      <td>40.128</td>\n",
              "      <td>40.715</td>\n",
              "      <td>41.320</td>\n",
              "      <td>41.944</td>\n",
              "      <td>42.585</td>\n",
              "      <td>43.244</td>\n",
              "      <td>43.923</td>\n",
              "      <td>44.617</td>\n",
              "      <td>45.324</td>\n",
              "      <td>46.040</td>\n",
              "      <td>46.761</td>\n",
              "      <td>47.486</td>\n",
              "      <td>48.211</td>\n",
              "      <td>48.930</td>\n",
              "      <td>49.640</td>\n",
              "      <td>50.331</td>\n",
              "      <td>50.999</td>\n",
              "      <td>51.641</td>\n",
              "      <td>52.256</td>\n",
              "      <td>52.842</td>\n",
              "      <td>53.398</td>\n",
              "      <td>53.924</td>\n",
              "      <td>54.424</td>\n",
              "      <td>54.906</td>\n",
              "      <td>55.376</td>\n",
              "      <td>55.841</td>\n",
              "      <td>56.308</td>\n",
              "      <td>56.784</td>\n",
              "      <td>57.271</td>\n",
              "      <td>57.772</td>\n",
              "      <td>58.290</td>\n",
              "      <td>58.826</td>\n",
              "      <td>59.375</td>\n",
              "      <td>59.930</td>\n",
              "      <td>60.484</td>\n",
              "      <td>61.028</td>\n",
              "      <td>61.553</td>\n",
              "      <td>62.054</td>\n",
              "      <td>62.525</td>\n",
              "      <td>62.966</td>\n",
              "      <td>63.377</td>\n",
              "      <td>63.763</td>\n",
              "      <td>64.130</td>\n",
              "      <td>64.486</td>\n",
              "      <td>64.833</td>\n",
              "    </tr>\n",
              "    <tr>\n",
              "      <th>1</th>\n",
              "      <td>Africa</td>\n",
              "      <td>NaN</td>\n",
              "      <td>36.450</td>\n",
              "      <td>36.712</td>\n",
              "      <td>37.234</td>\n",
              "      <td>37.754</td>\n",
              "      <td>38.270</td>\n",
              "      <td>38.783</td>\n",
              "      <td>39.293</td>\n",
              "      <td>39.799</td>\n",
              "      <td>40.299</td>\n",
              "      <td>40.793</td>\n",
              "      <td>41.277</td>\n",
              "      <td>41.750</td>\n",
              "      <td>42.211</td>\n",
              "      <td>42.657</td>\n",
              "      <td>43.091</td>\n",
              "      <td>43.513</td>\n",
              "      <td>43.927</td>\n",
              "      <td>44.335</td>\n",
              "      <td>44.742</td>\n",
              "      <td>45.150</td>\n",
              "      <td>45.563</td>\n",
              "      <td>45.984</td>\n",
              "      <td>46.414</td>\n",
              "      <td>46.850</td>\n",
              "      <td>47.290</td>\n",
              "      <td>47.733</td>\n",
              "      <td>48.175</td>\n",
              "      <td>48.612</td>\n",
              "      <td>49.040</td>\n",
              "      <td>49.452</td>\n",
              "      <td>49.851</td>\n",
              "      <td>50.235</td>\n",
              "      <td>50.606</td>\n",
              "      <td>50.959</td>\n",
              "      <td>51.286</td>\n",
              "      <td>51.571</td>\n",
              "      <td>51.798</td>\n",
              "      <td>51.959</td>\n",
              "      <td>52.054</td>\n",
              "      <td>52.092</td>\n",
              "      <td>52.083</td>\n",
              "      <td>52.047</td>\n",
              "      <td>52.005</td>\n",
              "      <td>51.978</td>\n",
              "      <td>51.982</td>\n",
              "      <td>52.022</td>\n",
              "      <td>52.095</td>\n",
              "      <td>52.195</td>\n",
              "      <td>52.323</td>\n",
              "      <td>52.487</td>\n",
              "      <td>52.705</td>\n",
              "      <td>52.995</td>\n",
              "      <td>53.368</td>\n",
              "      <td>53.827</td>\n",
              "      <td>54.367</td>\n",
              "      <td>54.982</td>\n",
              "      <td>55.661</td>\n",
              "      <td>56.382</td>\n",
              "      <td>57.121</td>\n",
              "      <td>57.858</td>\n",
              "      <td>58.576</td>\n",
              "      <td>59.263</td>\n",
              "      <td>59.914</td>\n",
              "      <td>60.527</td>\n",
              "      <td>61.093</td>\n",
              "      <td>61.607</td>\n",
              "      <td>62.064</td>\n",
              "      <td>62.472</td>\n",
              "      <td>62.839</td>\n",
              "      <td>63.170</td>\n",
              "    </tr>\n",
              "    <tr>\n",
              "      <th>2</th>\n",
              "      <td>Albania</td>\n",
              "      <td>ALB</td>\n",
              "      <td>54.191</td>\n",
              "      <td>54.399</td>\n",
              "      <td>54.875</td>\n",
              "      <td>55.468</td>\n",
              "      <td>56.180</td>\n",
              "      <td>57.007</td>\n",
              "      <td>57.941</td>\n",
              "      <td>58.969</td>\n",
              "      <td>60.065</td>\n",
              "      <td>61.186</td>\n",
              "      <td>62.283</td>\n",
              "      <td>63.301</td>\n",
              "      <td>64.190</td>\n",
              "      <td>64.914</td>\n",
              "      <td>65.463</td>\n",
              "      <td>65.850</td>\n",
              "      <td>66.110</td>\n",
              "      <td>66.304</td>\n",
              "      <td>66.487</td>\n",
              "      <td>66.689</td>\n",
              "      <td>66.935</td>\n",
              "      <td>67.237</td>\n",
              "      <td>67.582</td>\n",
              "      <td>67.953</td>\n",
              "      <td>68.343</td>\n",
              "      <td>68.736</td>\n",
              "      <td>69.110</td>\n",
              "      <td>69.448</td>\n",
              "      <td>69.742</td>\n",
              "      <td>69.991</td>\n",
              "      <td>70.208</td>\n",
              "      <td>70.416</td>\n",
              "      <td>70.635</td>\n",
              "      <td>70.876</td>\n",
              "      <td>71.134</td>\n",
              "      <td>71.388</td>\n",
              "      <td>71.605</td>\n",
              "      <td>71.760</td>\n",
              "      <td>71.843</td>\n",
              "      <td>71.860</td>\n",
              "      <td>71.836</td>\n",
              "      <td>71.803</td>\n",
              "      <td>71.802</td>\n",
              "      <td>71.860</td>\n",
              "      <td>71.992</td>\n",
              "      <td>72.205</td>\n",
              "      <td>72.495</td>\n",
              "      <td>72.838</td>\n",
              "      <td>73.208</td>\n",
              "      <td>73.587</td>\n",
              "      <td>73.955</td>\n",
              "      <td>74.288</td>\n",
              "      <td>74.579</td>\n",
              "      <td>74.828</td>\n",
              "      <td>75.039</td>\n",
              "      <td>75.228</td>\n",
              "      <td>75.423</td>\n",
              "      <td>75.646</td>\n",
              "      <td>75.912</td>\n",
              "      <td>76.221</td>\n",
              "      <td>76.562</td>\n",
              "      <td>76.914</td>\n",
              "      <td>77.252</td>\n",
              "      <td>77.554</td>\n",
              "      <td>77.813</td>\n",
              "      <td>78.025</td>\n",
              "      <td>78.194</td>\n",
              "      <td>78.333</td>\n",
              "      <td>78.458</td>\n",
              "      <td>78.573</td>\n",
              "    </tr>\n",
              "    <tr>\n",
              "      <th>3</th>\n",
              "      <td>Algeria</td>\n",
              "      <td>DZA</td>\n",
              "      <td>42.087</td>\n",
              "      <td>42.282</td>\n",
              "      <td>42.677</td>\n",
              "      <td>43.081</td>\n",
              "      <td>43.494</td>\n",
              "      <td>43.916</td>\n",
              "      <td>44.347</td>\n",
              "      <td>44.786</td>\n",
              "      <td>45.232</td>\n",
              "      <td>45.684</td>\n",
              "      <td>46.141</td>\n",
              "      <td>46.599</td>\n",
              "      <td>47.056</td>\n",
              "      <td>47.509</td>\n",
              "      <td>47.958</td>\n",
              "      <td>48.394</td>\n",
              "      <td>48.811</td>\n",
              "      <td>49.210</td>\n",
              "      <td>49.597</td>\n",
              "      <td>49.982</td>\n",
              "      <td>50.372</td>\n",
              "      <td>50.773</td>\n",
              "      <td>51.201</td>\n",
              "      <td>51.676</td>\n",
              "      <td>52.218</td>\n",
              "      <td>52.866</td>\n",
              "      <td>53.661</td>\n",
              "      <td>54.609</td>\n",
              "      <td>55.700</td>\n",
              "      <td>56.909</td>\n",
              "      <td>58.198</td>\n",
              "      <td>59.519</td>\n",
              "      <td>60.813</td>\n",
              "      <td>62.029</td>\n",
              "      <td>63.130</td>\n",
              "      <td>64.087</td>\n",
              "      <td>64.884</td>\n",
              "      <td>65.545</td>\n",
              "      <td>66.097</td>\n",
              "      <td>66.554</td>\n",
              "      <td>66.938</td>\n",
              "      <td>67.270</td>\n",
              "      <td>67.575</td>\n",
              "      <td>67.877</td>\n",
              "      <td>68.194</td>\n",
              "      <td>68.540</td>\n",
              "      <td>68.919</td>\n",
              "      <td>69.323</td>\n",
              "      <td>69.745</td>\n",
              "      <td>70.183</td>\n",
              "      <td>70.640</td>\n",
              "      <td>71.116</td>\n",
              "      <td>71.605</td>\n",
              "      <td>72.101</td>\n",
              "      <td>72.594</td>\n",
              "      <td>73.072</td>\n",
              "      <td>73.521</td>\n",
              "      <td>73.936</td>\n",
              "      <td>74.311</td>\n",
              "      <td>74.644</td>\n",
              "      <td>74.938</td>\n",
              "      <td>75.199</td>\n",
              "      <td>75.436</td>\n",
              "      <td>75.661</td>\n",
              "      <td>75.878</td>\n",
              "      <td>76.090</td>\n",
              "      <td>76.298</td>\n",
              "      <td>76.499</td>\n",
              "      <td>76.693</td>\n",
              "      <td>76.880</td>\n",
              "    </tr>\n",
              "    <tr>\n",
              "      <th>4</th>\n",
              "      <td>American Samoa</td>\n",
              "      <td>ASM</td>\n",
              "      <td>63.775</td>\n",
              "      <td>63.901</td>\n",
              "      <td>64.159</td>\n",
              "      <td>64.425</td>\n",
              "      <td>64.701</td>\n",
              "      <td>64.985</td>\n",
              "      <td>65.270</td>\n",
              "      <td>65.550</td>\n",
              "      <td>65.813</td>\n",
              "      <td>66.033</td>\n",
              "      <td>66.187</td>\n",
              "      <td>66.251</td>\n",
              "      <td>66.213</td>\n",
              "      <td>66.079</td>\n",
              "      <td>65.876</td>\n",
              "      <td>65.671</td>\n",
              "      <td>65.544</td>\n",
              "      <td>65.557</td>\n",
              "      <td>65.742</td>\n",
              "      <td>66.100</td>\n",
              "      <td>66.601</td>\n",
              "      <td>67.185</td>\n",
              "      <td>67.772</td>\n",
              "      <td>68.299</td>\n",
              "      <td>68.735</td>\n",
              "      <td>69.071</td>\n",
              "      <td>69.319</td>\n",
              "      <td>69.517</td>\n",
              "      <td>69.697</td>\n",
              "      <td>69.867</td>\n",
              "      <td>70.033</td>\n",
              "      <td>70.194</td>\n",
              "      <td>70.344</td>\n",
              "      <td>70.479</td>\n",
              "      <td>70.597</td>\n",
              "      <td>70.700</td>\n",
              "      <td>70.786</td>\n",
              "      <td>70.856</td>\n",
              "      <td>70.912</td>\n",
              "      <td>70.958</td>\n",
              "      <td>70.996</td>\n",
              "      <td>71.030</td>\n",
              "      <td>71.063</td>\n",
              "      <td>71.097</td>\n",
              "      <td>71.132</td>\n",
              "      <td>71.163</td>\n",
              "      <td>71.183</td>\n",
              "      <td>71.190</td>\n",
              "      <td>71.186</td>\n",
              "      <td>71.179</td>\n",
              "      <td>71.184</td>\n",
              "      <td>71.222</td>\n",
              "      <td>71.305</td>\n",
              "      <td>71.439</td>\n",
              "      <td>71.624</td>\n",
              "      <td>71.853</td>\n",
              "      <td>72.116</td>\n",
              "      <td>72.392</td>\n",
              "      <td>72.661</td>\n",
              "      <td>72.911</td>\n",
              "      <td>73.126</td>\n",
              "      <td>73.295</td>\n",
              "      <td>73.419</td>\n",
              "      <td>73.506</td>\n",
              "      <td>73.559</td>\n",
              "      <td>73.588</td>\n",
              "      <td>73.609</td>\n",
              "      <td>73.636</td>\n",
              "      <td>73.679</td>\n",
              "      <td>73.745</td>\n",
              "    </tr>\n",
              "  </tbody>\n",
              "</table>\n",
              "</div>"
            ],
            "text/plain": [
              "           Entity Code    1950    1951  ...    2016    2017    2018    2019\n",
              "0     Afghanistan  AFG  27.638  27.878  ...  63.763  64.130  64.486  64.833\n",
              "1          Africa  NaN  36.450  36.712  ...  62.064  62.472  62.839  63.170\n",
              "2         Albania  ALB  54.191  54.399  ...  78.194  78.333  78.458  78.573\n",
              "3         Algeria  DZA  42.087  42.282  ...  76.298  76.499  76.693  76.880\n",
              "4  American Samoa  ASM  63.775  63.901  ...  73.609  73.636  73.679  73.745\n",
              "\n",
              "[5 rows x 72 columns]"
            ]
          },
          "metadata": {
            "tags": []
          },
          "execution_count": 60
        }
      ]
    },
    {
      "cell_type": "code",
      "metadata": {
        "colab": {
          "base_uri": "https://localhost:8080/",
          "height": 317
        },
        "id": "H0cN_YRAj2ST",
        "outputId": "d2f4884c-6a51-4d04-9185-64a646531527"
      },
      "source": [
        "df.describe() #descripción de los datos númericos"
      ],
      "execution_count": null,
      "outputs": [
        {
          "output_type": "execute_result",
          "data": {
            "text/html": [
              "<div>\n",
              "<style scoped>\n",
              "    .dataframe tbody tr th:only-of-type {\n",
              "        vertical-align: middle;\n",
              "    }\n",
              "\n",
              "    .dataframe tbody tr th {\n",
              "        vertical-align: top;\n",
              "    }\n",
              "\n",
              "    .dataframe thead th {\n",
              "        text-align: right;\n",
              "    }\n",
              "</style>\n",
              "<table border=\"1\" class=\"dataframe\">\n",
              "  <thead>\n",
              "    <tr style=\"text-align: right;\">\n",
              "      <th></th>\n",
              "      <th>1950</th>\n",
              "      <th>1951</th>\n",
              "      <th>1952</th>\n",
              "      <th>1953</th>\n",
              "      <th>1954</th>\n",
              "      <th>1955</th>\n",
              "      <th>1956</th>\n",
              "      <th>1957</th>\n",
              "      <th>1958</th>\n",
              "      <th>1959</th>\n",
              "      <th>1960</th>\n",
              "      <th>1961</th>\n",
              "      <th>1962</th>\n",
              "      <th>1963</th>\n",
              "      <th>1964</th>\n",
              "      <th>1965</th>\n",
              "      <th>1966</th>\n",
              "      <th>1967</th>\n",
              "      <th>1968</th>\n",
              "      <th>1969</th>\n",
              "      <th>1970</th>\n",
              "      <th>1971</th>\n",
              "      <th>1972</th>\n",
              "      <th>1973</th>\n",
              "      <th>1974</th>\n",
              "      <th>1975</th>\n",
              "      <th>1976</th>\n",
              "      <th>1977</th>\n",
              "      <th>1978</th>\n",
              "      <th>1979</th>\n",
              "      <th>1980</th>\n",
              "      <th>1981</th>\n",
              "      <th>1982</th>\n",
              "      <th>1983</th>\n",
              "      <th>1984</th>\n",
              "      <th>1985</th>\n",
              "      <th>1986</th>\n",
              "      <th>1987</th>\n",
              "      <th>1988</th>\n",
              "      <th>1989</th>\n",
              "      <th>1990</th>\n",
              "      <th>1991</th>\n",
              "      <th>1992</th>\n",
              "      <th>1993</th>\n",
              "      <th>1994</th>\n",
              "      <th>1995</th>\n",
              "      <th>1996</th>\n",
              "      <th>1997</th>\n",
              "      <th>1998</th>\n",
              "      <th>1999</th>\n",
              "      <th>2000</th>\n",
              "      <th>2001</th>\n",
              "      <th>2002</th>\n",
              "      <th>2003</th>\n",
              "      <th>2004</th>\n",
              "      <th>2005</th>\n",
              "      <th>2006</th>\n",
              "      <th>2007</th>\n",
              "      <th>2008</th>\n",
              "      <th>2009</th>\n",
              "      <th>2010</th>\n",
              "      <th>2011</th>\n",
              "      <th>2012</th>\n",
              "      <th>2013</th>\n",
              "      <th>2014</th>\n",
              "      <th>2015</th>\n",
              "      <th>2016</th>\n",
              "      <th>2017</th>\n",
              "      <th>2018</th>\n",
              "      <th>2019</th>\n",
              "    </tr>\n",
              "  </thead>\n",
              "  <tbody>\n",
              "    <tr>\n",
              "      <th>count</th>\n",
              "      <td>243.000000</td>\n",
              "      <td>243.000000</td>\n",
              "      <td>243.000000</td>\n",
              "      <td>243.000000</td>\n",
              "      <td>243.000000</td>\n",
              "      <td>243.000000</td>\n",
              "      <td>243.000000</td>\n",
              "      <td>243.000000</td>\n",
              "      <td>243.000000</td>\n",
              "      <td>243.000000</td>\n",
              "      <td>243.000000</td>\n",
              "      <td>243.000000</td>\n",
              "      <td>243.000000</td>\n",
              "      <td>243.000000</td>\n",
              "      <td>243.000000</td>\n",
              "      <td>243.000000</td>\n",
              "      <td>243.000000</td>\n",
              "      <td>243.000000</td>\n",
              "      <td>243.000000</td>\n",
              "      <td>243.000000</td>\n",
              "      <td>243.000000</td>\n",
              "      <td>243.000000</td>\n",
              "      <td>243.000000</td>\n",
              "      <td>243.000000</td>\n",
              "      <td>243.000000</td>\n",
              "      <td>243.000000</td>\n",
              "      <td>243.000000</td>\n",
              "      <td>243.000000</td>\n",
              "      <td>243.000000</td>\n",
              "      <td>243.000000</td>\n",
              "      <td>243.000000</td>\n",
              "      <td>243.000000</td>\n",
              "      <td>243.000000</td>\n",
              "      <td>243.000000</td>\n",
              "      <td>243.000000</td>\n",
              "      <td>243.000000</td>\n",
              "      <td>243.000000</td>\n",
              "      <td>243.000000</td>\n",
              "      <td>243.000000</td>\n",
              "      <td>243.000000</td>\n",
              "      <td>243.000000</td>\n",
              "      <td>243.000000</td>\n",
              "      <td>243.000000</td>\n",
              "      <td>243.000000</td>\n",
              "      <td>243.000000</td>\n",
              "      <td>243.000000</td>\n",
              "      <td>243.000000</td>\n",
              "      <td>243.000000</td>\n",
              "      <td>243.000000</td>\n",
              "      <td>243.000000</td>\n",
              "      <td>243.000000</td>\n",
              "      <td>243.000000</td>\n",
              "      <td>243.000000</td>\n",
              "      <td>243.000000</td>\n",
              "      <td>243.000000</td>\n",
              "      <td>243.000000</td>\n",
              "      <td>243.000000</td>\n",
              "      <td>243.000000</td>\n",
              "      <td>243.000000</td>\n",
              "      <td>243.000000</td>\n",
              "      <td>243.000000</td>\n",
              "      <td>243.000000</td>\n",
              "      <td>243.000000</td>\n",
              "      <td>243.000000</td>\n",
              "      <td>243.000000</td>\n",
              "      <td>243.000000</td>\n",
              "      <td>243.000000</td>\n",
              "      <td>243.000000</td>\n",
              "      <td>243.000000</td>\n",
              "      <td>243.000000</td>\n",
              "    </tr>\n",
              "    <tr>\n",
              "      <th>mean</th>\n",
              "      <td>50.207757</td>\n",
              "      <td>50.526239</td>\n",
              "      <td>51.152881</td>\n",
              "      <td>51.758103</td>\n",
              "      <td>52.341897</td>\n",
              "      <td>52.904280</td>\n",
              "      <td>53.445519</td>\n",
              "      <td>53.965959</td>\n",
              "      <td>54.466399</td>\n",
              "      <td>54.948107</td>\n",
              "      <td>55.412605</td>\n",
              "      <td>55.861934</td>\n",
              "      <td>56.298342</td>\n",
              "      <td>56.724288</td>\n",
              "      <td>57.141872</td>\n",
              "      <td>57.552609</td>\n",
              "      <td>57.957160</td>\n",
              "      <td>58.355132</td>\n",
              "      <td>58.746848</td>\n",
              "      <td>59.133246</td>\n",
              "      <td>59.514819</td>\n",
              "      <td>59.891695</td>\n",
              "      <td>60.264070</td>\n",
              "      <td>60.632560</td>\n",
              "      <td>60.998358</td>\n",
              "      <td>61.363634</td>\n",
              "      <td>61.730802</td>\n",
              "      <td>62.100465</td>\n",
              "      <td>62.472247</td>\n",
              "      <td>62.844893</td>\n",
              "      <td>63.217420</td>\n",
              "      <td>63.588790</td>\n",
              "      <td>63.955539</td>\n",
              "      <td>64.313243</td>\n",
              "      <td>64.657391</td>\n",
              "      <td>64.981029</td>\n",
              "      <td>65.277222</td>\n",
              "      <td>65.543831</td>\n",
              "      <td>65.781584</td>\n",
              "      <td>65.992918</td>\n",
              "      <td>66.182189</td>\n",
              "      <td>66.355498</td>\n",
              "      <td>66.521597</td>\n",
              "      <td>66.688971</td>\n",
              "      <td>66.863798</td>\n",
              "      <td>67.050564</td>\n",
              "      <td>67.251099</td>\n",
              "      <td>67.463901</td>\n",
              "      <td>67.688132</td>\n",
              "      <td>67.925284</td>\n",
              "      <td>68.176934</td>\n",
              "      <td>68.444473</td>\n",
              "      <td>68.727296</td>\n",
              "      <td>69.023951</td>\n",
              "      <td>69.333239</td>\n",
              "      <td>69.654947</td>\n",
              "      <td>69.989132</td>\n",
              "      <td>70.333309</td>\n",
              "      <td>70.683617</td>\n",
              "      <td>71.035481</td>\n",
              "      <td>71.383621</td>\n",
              "      <td>71.723305</td>\n",
              "      <td>72.050909</td>\n",
              "      <td>72.363292</td>\n",
              "      <td>72.657481</td>\n",
              "      <td>72.930885</td>\n",
              "      <td>73.182383</td>\n",
              "      <td>73.414519</td>\n",
              "      <td>73.630617</td>\n",
              "      <td>73.832988</td>\n",
              "    </tr>\n",
              "    <tr>\n",
              "      <th>std</th>\n",
              "      <td>11.760972</td>\n",
              "      <td>11.756748</td>\n",
              "      <td>11.759003</td>\n",
              "      <td>11.767933</td>\n",
              "      <td>11.778052</td>\n",
              "      <td>11.784992</td>\n",
              "      <td>11.785442</td>\n",
              "      <td>11.777042</td>\n",
              "      <td>11.758337</td>\n",
              "      <td>11.728160</td>\n",
              "      <td>11.685370</td>\n",
              "      <td>11.629356</td>\n",
              "      <td>11.559763</td>\n",
              "      <td>11.477575</td>\n",
              "      <td>11.384900</td>\n",
              "      <td>11.284284</td>\n",
              "      <td>11.177996</td>\n",
              "      <td>11.069310</td>\n",
              "      <td>10.961536</td>\n",
              "      <td>10.857810</td>\n",
              "      <td>10.762852</td>\n",
              "      <td>10.681950</td>\n",
              "      <td>10.618421</td>\n",
              "      <td>10.575003</td>\n",
              "      <td>10.552434</td>\n",
              "      <td>10.541606</td>\n",
              "      <td>10.522528</td>\n",
              "      <td>10.475093</td>\n",
              "      <td>10.386657</td>\n",
              "      <td>10.257616</td>\n",
              "      <td>10.100381</td>\n",
              "      <td>9.934288</td>\n",
              "      <td>9.779814</td>\n",
              "      <td>9.647805</td>\n",
              "      <td>9.539697</td>\n",
              "      <td>9.457120</td>\n",
              "      <td>9.402978</td>\n",
              "      <td>9.379238</td>\n",
              "      <td>9.388650</td>\n",
              "      <td>9.433502</td>\n",
              "      <td>9.507830</td>\n",
              "      <td>9.595194</td>\n",
              "      <td>9.675688</td>\n",
              "      <td>9.733602</td>\n",
              "      <td>9.764102</td>\n",
              "      <td>9.774405</td>\n",
              "      <td>9.778944</td>\n",
              "      <td>9.791200</td>\n",
              "      <td>9.814071</td>\n",
              "      <td>9.840518</td>\n",
              "      <td>9.859823</td>\n",
              "      <td>9.860755</td>\n",
              "      <td>9.836013</td>\n",
              "      <td>9.781278</td>\n",
              "      <td>9.694314</td>\n",
              "      <td>9.573610</td>\n",
              "      <td>9.419703</td>\n",
              "      <td>9.239829</td>\n",
              "      <td>9.043076</td>\n",
              "      <td>8.837452</td>\n",
              "      <td>8.630897</td>\n",
              "      <td>8.429475</td>\n",
              "      <td>8.237117</td>\n",
              "      <td>8.057339</td>\n",
              "      <td>7.893805</td>\n",
              "      <td>7.749960</td>\n",
              "      <td>7.627608</td>\n",
              "      <td>7.524863</td>\n",
              "      <td>7.439119</td>\n",
              "      <td>7.368626</td>\n",
              "    </tr>\n",
              "    <tr>\n",
              "      <th>min</th>\n",
              "      <td>26.408000</td>\n",
              "      <td>26.563000</td>\n",
              "      <td>26.856000</td>\n",
              "      <td>27.117000</td>\n",
              "      <td>27.344000</td>\n",
              "      <td>27.540000</td>\n",
              "      <td>27.705000</td>\n",
              "      <td>27.844000</td>\n",
              "      <td>27.964000</td>\n",
              "      <td>28.077000</td>\n",
              "      <td>28.199000</td>\n",
              "      <td>28.345000</td>\n",
              "      <td>28.535000</td>\n",
              "      <td>28.782000</td>\n",
              "      <td>29.097000</td>\n",
              "      <td>29.489000</td>\n",
              "      <td>29.959000</td>\n",
              "      <td>30.496000</td>\n",
              "      <td>31.086000</td>\n",
              "      <td>31.720000</td>\n",
              "      <td>32.388000</td>\n",
              "      <td>33.078000</td>\n",
              "      <td>33.782000</td>\n",
              "      <td>32.667000</td>\n",
              "      <td>28.040000</td>\n",
              "      <td>23.595000</td>\n",
              "      <td>20.317000</td>\n",
              "      <td>18.907000</td>\n",
              "      <td>19.725000</td>\n",
              "      <td>22.744000</td>\n",
              "      <td>27.536000</td>\n",
              "      <td>33.342000</td>\n",
              "      <td>38.175000</td>\n",
              "      <td>39.671000</td>\n",
              "      <td>40.005000</td>\n",
              "      <td>40.377000</td>\n",
              "      <td>40.147000</td>\n",
              "      <td>39.827000</td>\n",
              "      <td>39.439000</td>\n",
              "      <td>38.439000</td>\n",
              "      <td>33.413000</td>\n",
              "      <td>29.248000</td>\n",
              "      <td>26.691000</td>\n",
              "      <td>26.172000</td>\n",
              "      <td>27.738000</td>\n",
              "      <td>31.037000</td>\n",
              "      <td>35.380000</td>\n",
              "      <td>37.496000</td>\n",
              "      <td>37.980000</td>\n",
              "      <td>38.634000</td>\n",
              "      <td>39.441000</td>\n",
              "      <td>40.369000</td>\n",
              "      <td>41.376000</td>\n",
              "      <td>42.419000</td>\n",
              "      <td>42.731000</td>\n",
              "      <td>42.518000</td>\n",
              "      <td>42.595000</td>\n",
              "      <td>42.854000</td>\n",
              "      <td>43.384000</td>\n",
              "      <td>44.146000</td>\n",
              "      <td>45.100000</td>\n",
              "      <td>46.207000</td>\n",
              "      <td>47.416000</td>\n",
              "      <td>48.663000</td>\n",
              "      <td>49.891000</td>\n",
              "      <td>50.881000</td>\n",
              "      <td>51.593000</td>\n",
              "      <td>52.240000</td>\n",
              "      <td>52.805000</td>\n",
              "      <td>53.283000</td>\n",
              "    </tr>\n",
              "    <tr>\n",
              "      <th>25%</th>\n",
              "      <td>40.230500</td>\n",
              "      <td>40.425500</td>\n",
              "      <td>40.793000</td>\n",
              "      <td>41.552500</td>\n",
              "      <td>42.600500</td>\n",
              "      <td>43.122500</td>\n",
              "      <td>43.662000</td>\n",
              "      <td>44.197500</td>\n",
              "      <td>44.782000</td>\n",
              "      <td>45.264000</td>\n",
              "      <td>45.782000</td>\n",
              "      <td>46.308500</td>\n",
              "      <td>46.992000</td>\n",
              "      <td>47.541000</td>\n",
              "      <td>48.309000</td>\n",
              "      <td>49.227500</td>\n",
              "      <td>49.882500</td>\n",
              "      <td>50.526000</td>\n",
              "      <td>51.086500</td>\n",
              "      <td>51.685000</td>\n",
              "      <td>52.190000</td>\n",
              "      <td>52.531000</td>\n",
              "      <td>53.059500</td>\n",
              "      <td>53.573000</td>\n",
              "      <td>54.046500</td>\n",
              "      <td>54.736000</td>\n",
              "      <td>55.443000</td>\n",
              "      <td>55.811500</td>\n",
              "      <td>56.150000</td>\n",
              "      <td>56.667500</td>\n",
              "      <td>56.898000</td>\n",
              "      <td>57.260000</td>\n",
              "      <td>57.574000</td>\n",
              "      <td>58.066500</td>\n",
              "      <td>58.677000</td>\n",
              "      <td>59.136500</td>\n",
              "      <td>59.407500</td>\n",
              "      <td>59.611500</td>\n",
              "      <td>60.068000</td>\n",
              "      <td>60.009500</td>\n",
              "      <td>60.184000</td>\n",
              "      <td>60.439500</td>\n",
              "      <td>60.675000</td>\n",
              "      <td>60.587500</td>\n",
              "      <td>60.727000</td>\n",
              "      <td>60.818500</td>\n",
              "      <td>60.689000</td>\n",
              "      <td>61.132500</td>\n",
              "      <td>61.601500</td>\n",
              "      <td>61.961500</td>\n",
              "      <td>62.478500</td>\n",
              "      <td>62.999500</td>\n",
              "      <td>63.605000</td>\n",
              "      <td>64.069000</td>\n",
              "      <td>64.554000</td>\n",
              "      <td>65.055500</td>\n",
              "      <td>65.446000</td>\n",
              "      <td>65.877500</td>\n",
              "      <td>66.300500</td>\n",
              "      <td>66.677500</td>\n",
              "      <td>66.939500</td>\n",
              "      <td>67.303500</td>\n",
              "      <td>67.632500</td>\n",
              "      <td>67.942000</td>\n",
              "      <td>68.279500</td>\n",
              "      <td>68.622000</td>\n",
              "      <td>68.937000</td>\n",
              "      <td>69.227000</td>\n",
              "      <td>69.493000</td>\n",
              "      <td>69.739500</td>\n",
              "    </tr>\n",
              "    <tr>\n",
              "      <th>50%</th>\n",
              "      <td>51.660000</td>\n",
              "      <td>52.089000</td>\n",
              "      <td>52.940000</td>\n",
              "      <td>53.764000</td>\n",
              "      <td>54.571000</td>\n",
              "      <td>55.246000</td>\n",
              "      <td>55.690000</td>\n",
              "      <td>56.008000</td>\n",
              "      <td>56.512000</td>\n",
              "      <td>57.288000</td>\n",
              "      <td>57.979000</td>\n",
              "      <td>58.493000</td>\n",
              "      <td>59.177000</td>\n",
              "      <td>59.668000</td>\n",
              "      <td>60.158000</td>\n",
              "      <td>60.648000</td>\n",
              "      <td>61.122000</td>\n",
              "      <td>61.462000</td>\n",
              "      <td>61.779000</td>\n",
              "      <td>62.354000</td>\n",
              "      <td>62.542000</td>\n",
              "      <td>62.985000</td>\n",
              "      <td>63.457000</td>\n",
              "      <td>63.774000</td>\n",
              "      <td>64.206000</td>\n",
              "      <td>64.518000</td>\n",
              "      <td>64.994000</td>\n",
              "      <td>65.435000</td>\n",
              "      <td>65.964000</td>\n",
              "      <td>66.377000</td>\n",
              "      <td>66.844000</td>\n",
              "      <td>67.128000</td>\n",
              "      <td>67.365000</td>\n",
              "      <td>67.689000</td>\n",
              "      <td>68.167000</td>\n",
              "      <td>68.462000</td>\n",
              "      <td>68.649000</td>\n",
              "      <td>68.798000</td>\n",
              "      <td>69.024000</td>\n",
              "      <td>69.292000</td>\n",
              "      <td>69.328000</td>\n",
              "      <td>69.407000</td>\n",
              "      <td>69.492000</td>\n",
              "      <td>69.557000</td>\n",
              "      <td>69.732000</td>\n",
              "      <td>69.770000</td>\n",
              "      <td>70.140000</td>\n",
              "      <td>70.309000</td>\n",
              "      <td>70.522000</td>\n",
              "      <td>70.762000</td>\n",
              "      <td>71.105000</td>\n",
              "      <td>71.274000</td>\n",
              "      <td>71.708000</td>\n",
              "      <td>72.062000</td>\n",
              "      <td>72.272000</td>\n",
              "      <td>72.446000</td>\n",
              "      <td>72.716000</td>\n",
              "      <td>72.956000</td>\n",
              "      <td>73.099000</td>\n",
              "      <td>73.300000</td>\n",
              "      <td>73.619000</td>\n",
              "      <td>73.921000</td>\n",
              "      <td>74.001000</td>\n",
              "      <td>74.172000</td>\n",
              "      <td>74.451000</td>\n",
              "      <td>74.584000</td>\n",
              "      <td>74.703000</td>\n",
              "      <td>74.874000</td>\n",
              "      <td>74.992000</td>\n",
              "      <td>75.125000</td>\n",
              "    </tr>\n",
              "    <tr>\n",
              "      <th>75%</th>\n",
              "      <td>59.239000</td>\n",
              "      <td>59.777500</td>\n",
              "      <td>60.469500</td>\n",
              "      <td>61.351500</td>\n",
              "      <td>62.091500</td>\n",
              "      <td>62.717500</td>\n",
              "      <td>63.385000</td>\n",
              "      <td>64.074000</td>\n",
              "      <td>64.518000</td>\n",
              "      <td>64.938500</td>\n",
              "      <td>65.521500</td>\n",
              "      <td>65.931500</td>\n",
              "      <td>66.221500</td>\n",
              "      <td>66.438500</td>\n",
              "      <td>66.783000</td>\n",
              "      <td>67.165000</td>\n",
              "      <td>67.610500</td>\n",
              "      <td>67.965500</td>\n",
              "      <td>68.357000</td>\n",
              "      <td>68.565000</td>\n",
              "      <td>68.633000</td>\n",
              "      <td>68.801500</td>\n",
              "      <td>69.197000</td>\n",
              "      <td>69.466500</td>\n",
              "      <td>69.710000</td>\n",
              "      <td>69.971500</td>\n",
              "      <td>70.224500</td>\n",
              "      <td>70.387500</td>\n",
              "      <td>70.604500</td>\n",
              "      <td>70.604000</td>\n",
              "      <td>70.807000</td>\n",
              "      <td>71.170000</td>\n",
              "      <td>71.253000</td>\n",
              "      <td>71.433000</td>\n",
              "      <td>71.698000</td>\n",
              "      <td>71.991500</td>\n",
              "      <td>72.335000</td>\n",
              "      <td>72.644500</td>\n",
              "      <td>72.999500</td>\n",
              "      <td>73.370000</td>\n",
              "      <td>73.674000</td>\n",
              "      <td>74.013500</td>\n",
              "      <td>74.126000</td>\n",
              "      <td>74.364500</td>\n",
              "      <td>74.320000</td>\n",
              "      <td>74.461500</td>\n",
              "      <td>74.769500</td>\n",
              "      <td>74.934000</td>\n",
              "      <td>75.266000</td>\n",
              "      <td>75.623000</td>\n",
              "      <td>75.876000</td>\n",
              "      <td>76.209000</td>\n",
              "      <td>76.425000</td>\n",
              "      <td>76.746000</td>\n",
              "      <td>77.054500</td>\n",
              "      <td>77.391500</td>\n",
              "      <td>77.580500</td>\n",
              "      <td>77.867000</td>\n",
              "      <td>78.129000</td>\n",
              "      <td>78.288500</td>\n",
              "      <td>78.468000</td>\n",
              "      <td>78.642000</td>\n",
              "      <td>78.769500</td>\n",
              "      <td>78.915000</td>\n",
              "      <td>79.024500</td>\n",
              "      <td>79.183500</td>\n",
              "      <td>79.300500</td>\n",
              "      <td>79.301500</td>\n",
              "      <td>79.319500</td>\n",
              "      <td>79.415500</td>\n",
              "    </tr>\n",
              "    <tr>\n",
              "      <th>max</th>\n",
              "      <td>72.335000</td>\n",
              "      <td>72.471000</td>\n",
              "      <td>72.725000</td>\n",
              "      <td>72.940000</td>\n",
              "      <td>73.118000</td>\n",
              "      <td>73.258000</td>\n",
              "      <td>73.361000</td>\n",
              "      <td>73.431000</td>\n",
              "      <td>73.472000</td>\n",
              "      <td>73.490000</td>\n",
              "      <td>73.496000</td>\n",
              "      <td>73.499000</td>\n",
              "      <td>73.510000</td>\n",
              "      <td>73.576000</td>\n",
              "      <td>73.691000</td>\n",
              "      <td>73.810000</td>\n",
              "      <td>73.935000</td>\n",
              "      <td>74.064000</td>\n",
              "      <td>74.195000</td>\n",
              "      <td>74.328000</td>\n",
              "      <td>74.460000</td>\n",
              "      <td>74.586000</td>\n",
              "      <td>74.705000</td>\n",
              "      <td>74.817000</td>\n",
              "      <td>74.926000</td>\n",
              "      <td>75.270000</td>\n",
              "      <td>75.665000</td>\n",
              "      <td>76.206000</td>\n",
              "      <td>76.685000</td>\n",
              "      <td>77.083000</td>\n",
              "      <td>77.399000</td>\n",
              "      <td>77.645000</td>\n",
              "      <td>77.851000</td>\n",
              "      <td>78.041000</td>\n",
              "      <td>78.227000</td>\n",
              "      <td>78.418000</td>\n",
              "      <td>78.615000</td>\n",
              "      <td>78.814000</td>\n",
              "      <td>79.012000</td>\n",
              "      <td>79.211000</td>\n",
              "      <td>79.411000</td>\n",
              "      <td>79.610000</td>\n",
              "      <td>79.808000</td>\n",
              "      <td>80.005000</td>\n",
              "      <td>80.204000</td>\n",
              "      <td>80.408000</td>\n",
              "      <td>80.624000</td>\n",
              "      <td>80.856000</td>\n",
              "      <td>81.100000</td>\n",
              "      <td>81.352000</td>\n",
              "      <td>81.599000</td>\n",
              "      <td>81.827000</td>\n",
              "      <td>82.337000</td>\n",
              "      <td>82.867000</td>\n",
              "      <td>83.253000</td>\n",
              "      <td>83.503000</td>\n",
              "      <td>83.649000</td>\n",
              "      <td>83.752000</td>\n",
              "      <td>83.865000</td>\n",
              "      <td>84.010000</td>\n",
              "      <td>84.207000</td>\n",
              "      <td>84.462000</td>\n",
              "      <td>84.758000</td>\n",
              "      <td>85.077000</td>\n",
              "      <td>85.410000</td>\n",
              "      <td>85.739000</td>\n",
              "      <td>86.049000</td>\n",
              "      <td>86.325000</td>\n",
              "      <td>86.560000</td>\n",
              "      <td>86.751000</td>\n",
              "    </tr>\n",
              "  </tbody>\n",
              "</table>\n",
              "</div>"
            ],
            "text/plain": [
              "             1950        1951        1952  ...        2017        2018        2019\n",
              "count  243.000000  243.000000  243.000000  ...  243.000000  243.000000  243.000000\n",
              "mean    50.207757   50.526239   51.152881  ...   73.414519   73.630617   73.832988\n",
              "std     11.760972   11.756748   11.759003  ...    7.524863    7.439119    7.368626\n",
              "min     26.408000   26.563000   26.856000  ...   52.240000   52.805000   53.283000\n",
              "25%     40.230500   40.425500   40.793000  ...   69.227000   69.493000   69.739500\n",
              "50%     51.660000   52.089000   52.940000  ...   74.874000   74.992000   75.125000\n",
              "75%     59.239000   59.777500   60.469500  ...   79.301500   79.319500   79.415500\n",
              "max     72.335000   72.471000   72.725000  ...   86.325000   86.560000   86.751000\n",
              "\n",
              "[8 rows x 70 columns]"
            ]
          },
          "metadata": {
            "tags": []
          },
          "execution_count": 4
        }
      ]
    },
    {
      "cell_type": "code",
      "metadata": {
        "colab": {
          "base_uri": "https://localhost:8080/"
        },
        "id": "EbOMWrkY9_8w",
        "outputId": "1afacada-a28f-4a38-c791-30b846873b08"
      },
      "source": [
        "Na = []\n",
        "for i in range(1950,2019):\n",
        "  x = pd.isnull(df[str(i)]).values.ravel().sum()\n",
        "  Na.append(x)\n",
        "print('Hay un total de ' + repr(pd.array(Na).sum())  + ' valores Na en este dataset') \n",
        "\n",
        "#Corroborar si el dataframe tiene NA´s"
      ],
      "execution_count": 4,
      "outputs": [
        {
          "output_type": "stream",
          "text": [
            "Hay un total de 0 valores Na en este dataset\n"
          ],
          "name": "stdout"
        }
      ]
    },
    {
      "cell_type": "markdown",
      "metadata": {
        "id": "Vx54Zkoq3UEv"
      },
      "source": [
        "#Distribución de la media mundial de espectativa de vida durante los años"
      ]
    },
    {
      "cell_type": "code",
      "metadata": {
        "colab": {
          "base_uri": "https://localhost:8080/",
          "height": 475
        },
        "id": "8SpscJLkkJiz",
        "outputId": "1c0c5865-5afb-463e-f04b-11e22ccc5903"
      },
      "source": [
        "plt.figure(figsize=(10,7))\n",
        "plt.scatter(x = range(1949,2019), y = df.mean())\n",
        "plt.title('Expectativa de vida MUNDIAL')\n",
        "plt.xlabel('años')\n",
        "plt.ylabel('Edad')"
      ],
      "execution_count": 5,
      "outputs": [
        {
          "output_type": "execute_result",
          "data": {
            "text/plain": [
              "Text(0, 0.5, 'Edad')"
            ]
          },
          "metadata": {
            "tags": []
          },
          "execution_count": 5
        },
        {
          "output_type": "display_data",
          "data": {
            "image/png": "[encoded data removed]",
            "text/plain": [
              "<Figure size 720x504 with 1 Axes>"
            ]
          },
          "metadata": {
            "tags": [],
            "needs_background": "light"
          }
        }
      ]
    },
    {
      "cell_type": "markdown",
      "metadata": {
        "id": "GLyDYABP3cxE"
      },
      "source": [
        "##Creación de un modelo de regresión lineal"
      ]
    },
    {
      "cell_type": "code",
      "metadata": {
        "id": "cPgyIGd9nl1W"
      },
      "source": [
        "regresion_lineal = LinearRegression()"
      ],
      "execution_count": 6,
      "outputs": []
    },
    {
      "cell_type": "code",
      "metadata": {
        "id": "Xu6CBQ-7rJm6"
      },
      "source": [
        "x = np.arange(1949,2019).reshape(-1,1)\n",
        "y = df.mean()\n",
        "X_train, X_test, y_train, y_test = train_test_split(x,y, test_size=0.2)"
      ],
      "execution_count": 9,
      "outputs": []
    },
    {
      "cell_type": "code",
      "metadata": {
        "id": "2k1dO-vbrY_W"
      },
      "source": [
        "regresion_lineal.fit(X_train, y_train)\n",
        "Y_predict = regresion_lineal.predict(X_test)"
      ],
      "execution_count": 10,
      "outputs": []
    },
    {
      "cell_type": "code",
      "metadata": {
        "colab": {
          "base_uri": "https://localhost:8080/",
          "height": 458
        },
        "id": "QaRDLfFdsX_V",
        "outputId": "ae463468-c06e-47e6-e6a1-092177de3322"
      },
      "source": [
        "plt.figure(figsize=(10,7))\n",
        "plt.scatter(X_test, y_test)\n",
        "plt.plot(X_test, Y_predict, color='red', linewidth =3)\n",
        "plt.title('Regresión Lineal Simple')\n",
        "plt.xlabel('Año')\n",
        "plt.ylabel('Expectativa de vida')\n",
        "plt.show()"
      ],
      "execution_count": 11,
      "outputs": [
        {
          "output_type": "display_data",
          "data": {
            "image/png": "[encoded data removed]",
            "text/plain": [
              "<Figure size 720x504 with 1 Axes>"
            ]
          },
          "metadata": {
            "tags": [],
            "needs_background": "light"
          }
        }
      ]
    },
    {
      "cell_type": "code",
      "metadata": {
        "colab": {
          "base_uri": "https://localhost:8080/"
        },
        "id": "W3kCkQfjsdpi",
        "outputId": "e2acb737-4010-4c41-b8dd-81e97df3eefb"
      },
      "source": [
        "print('Los coeficientes son' +' '+ 'a = ' + str(regresion_lineal.coef_) + ', b = ' + str(regresion_lineal.intercept_) + \n",
        "      ' y tiene una presición de' + ' '+ str(regresion_lineal.score(X_train, y_train)))"
      ],
      "execution_count": 12,
      "outputs": [
        {
          "output_type": "stream",
          "text": [
            "Los coeficientes son a = [0.3219773], b = -575.0321249547156 y tiene una presición de 0.9837044642366413\n"
          ],
          "name": "stdout"
        }
      ]
    },
    {
      "cell_type": "markdown",
      "metadata": {
        "id": "D5pws63x3l5e"
      },
      "source": [
        "##Con ayuda del modelo predecimos los siguientes años"
      ]
    },
    {
      "cell_type": "code",
      "metadata": {
        "id": "XOSNwqkdsuD3",
        "colab": {
          "base_uri": "https://localhost:8080/",
          "height": 492
        },
        "outputId": "44993eb7-0765-47a7-825e-787a6e155774"
      },
      "source": [
        "X = np.arange(2021,2024).reshape(-1,1)\n",
        "prediccion = regresion_lineal.predict(X)\n",
        "print(prediccion)\n",
        "año21 = mpatches.Patch(color='red', label= round(prediccion[0],2))\n",
        "año22 = mpatches.Patch(color='blue', label= round(prediccion[1],2))\n",
        "año23 = mpatches.Patch(color='black', label= round(prediccion[2],2))\n",
        "plt.figure(figsize=(10,7))\n",
        "plt.bar([2021,2022,2023],prediccion, color = ['r','b','black'])\n",
        "plt.xticks([2021,2022,2023])\n",
        "plt.xlabel('Años')\n",
        "plt.ylabel('Expectativa de vida')\n",
        "plt.ylim(0,90)\n",
        "plt.legend(handles=[año21,año22,año23], loc='upper left', fontsize=16)\n",
        "plt.title('Expectativa de vida en los siguientes años MUNDIALMENTE')"
      ],
      "execution_count": 13,
      "outputs": [
        {
          "output_type": "stream",
          "text": [
            "[75.68399072 76.00596802 76.32794531]\n"
          ],
          "name": "stdout"
        },
        {
          "output_type": "execute_result",
          "data": {
            "text/plain": [
              "Text(0.5, 1.0, 'Espectativa de vida en los siguientes años MUNDIALMENTE')"
            ]
          },
          "metadata": {
            "tags": []
          },
          "execution_count": 13
        },
        {
          "output_type": "display_data",
          "data": {
            "image/png": "[encoded data removed]",
            "text/plain": [
              "<Figure size 720x504 with 1 Axes>"
            ]
          },
          "metadata": {
            "tags": [],
            "needs_background": "light"
          }
        }
      ]
    },
    {
      "cell_type": "code",
      "metadata": {
        "id": "nWuNMJ9MWJSz"
      },
      "source": [
        "mexico = df[df['Entity'] == 'Mexico'] #Filtramos los datos de México"
      ],
      "execution_count": 14,
      "outputs": []
    },
    {
      "cell_type": "code",
      "metadata": {
        "colab": {
          "base_uri": "https://localhost:8080/",
          "height": 80
        },
        "id": "RIvUBpT3Zcla",
        "outputId": "13b226d7-6025-48ff-a81c-3f2701812f6f"
      },
      "source": [
        "mexico[mexico == mexico.values[:,2:].max()].dropna(axis=1, how='any') #Año donde esta la mayor expectativa de vida"
      ],
      "execution_count": 15,
      "outputs": [
        {
          "output_type": "execute_result",
          "data": {
            "text/html": [
              "<div>\n",
              "<style scoped>\n",
              "    .dataframe tbody tr th:only-of-type {\n",
              "        vertical-align: middle;\n",
              "    }\n",
              "\n",
              "    .dataframe tbody tr th {\n",
              "        vertical-align: top;\n",
              "    }\n",
              "\n",
              "    .dataframe thead th {\n",
              "        text-align: right;\n",
              "    }\n",
              "</style>\n",
              "<table border=\"1\" class=\"dataframe\">\n",
              "  <thead>\n",
              "    <tr style=\"text-align: right;\">\n",
              "      <th></th>\n",
              "      <th>2005</th>\n",
              "    </tr>\n",
              "  </thead>\n",
              "  <tbody>\n",
              "    <tr>\n",
              "      <th>137</th>\n",
              "      <td>75.3</td>\n",
              "    </tr>\n",
              "  </tbody>\n",
              "</table>\n",
              "</div>"
            ],
            "text/plain": [
              "     2005\n",
              "137  75.3"
            ]
          },
          "metadata": {
            "tags": []
          },
          "execution_count": 15
        }
      ]
    },
    {
      "cell_type": "code",
      "metadata": {
        "colab": {
          "base_uri": "https://localhost:8080/",
          "height": 475
        },
        "id": "4uqCP24CZU3_",
        "outputId": "cc0eee6c-99b3-452b-a39b-3e52999f38e9"
      },
      "source": [
        "plt.figure(figsize=(10,7))\n",
        "plt.scatter(x = range(1949,2019), y = mexico.mean())\n",
        "plt.title('Expectativa de vida México')\n",
        "plt.xlabel('Años')\n",
        "plt.ylabel('Edades')"
      ],
      "execution_count": 16,
      "outputs": [
        {
          "output_type": "execute_result",
          "data": {
            "text/plain": [
              "Text(0, 0.5, 'Edades')"
            ]
          },
          "metadata": {
            "tags": []
          },
          "execution_count": 16
        },
        {
          "output_type": "display_data",
          "data": {
            "image/png": "[encoded data removed]",
            "text/plain": [
              "<Figure size 720x504 with 1 Axes>"
            ]
          },
          "metadata": {
            "tags": [],
            "needs_background": "light"
          }
        }
      ]
    },
    {
      "cell_type": "markdown",
      "metadata": {
        "id": "-Y1RpK9F3xI8"
      },
      "source": [
        "##Creación de un modelo polinomico para aproximar los datos de el grafico anterior"
      ]
    },
    {
      "cell_type": "code",
      "metadata": {
        "id": "pgvr6qMsdENe"
      },
      "source": [
        "x_p = np.arange(1949,2019).reshape(-1,1)\n",
        "y_p = mexico.mean()\n",
        "X_train_p, X_test_p, y_train_p, y_test_p = train_test_split(x_p, y_p, test_size=0.2)"
      ],
      "execution_count": 17,
      "outputs": []
    },
    {
      "cell_type": "code",
      "metadata": {
        "id": "30L6fZBPdcRd"
      },
      "source": [
        "poli_reg = PolynomialFeatures(degree = 2)"
      ],
      "execution_count": 18,
      "outputs": []
    },
    {
      "cell_type": "code",
      "metadata": {
        "id": "onMufN3ndoIj"
      },
      "source": [
        "X_train_poli = poli_reg.fit_transform(X_train_p)\n",
        "X_test_poli = poli_reg.fit_transform(X_test_p)"
      ],
      "execution_count": 19,
      "outputs": []
    },
    {
      "cell_type": "code",
      "metadata": {
        "colab": {
          "base_uri": "https://localhost:8080/"
        },
        "id": "EbGCqpkodpfb",
        "outputId": "f8df85d2-0dc1-4388-b521-93246ce80fdc"
      },
      "source": [
        "pr = LinearRegression()\n",
        "pr.fit(X_train_poli, y_train_p)"
      ],
      "execution_count": 20,
      "outputs": [
        {
          "output_type": "execute_result",
          "data": {
            "text/plain": [
              "LinearRegression(copy_X=True, fit_intercept=True, n_jobs=None, normalize=False)"
            ]
          },
          "metadata": {
            "tags": []
          },
          "execution_count": 20
        }
      ]
    },
    {
      "cell_type": "code",
      "metadata": {
        "id": "YQWe0XvrdvAS"
      },
      "source": [
        "Y_pred_pr = pr.predict(X_test_poli)"
      ],
      "execution_count": 21,
      "outputs": []
    },
    {
      "cell_type": "code",
      "metadata": {
        "colab": {
          "base_uri": "https://localhost:8080/",
          "height": 461
        },
        "id": "OJqoceLvfg68",
        "outputId": "9faa3a0c-acbe-44be-dbf5-1df89bbd5e1b"
      },
      "source": [
        "plt.figure(figsize=(10,7))\n",
        "plt.scatter(X_test_p, y_test_p)\n",
        "plt.plot(X_test_p, Y_pred_pr, color='red', linewidth=3)\n",
        "plt.title('Modelo para expectativa de vida en México')"
      ],
      "execution_count": 23,
      "outputs": [
        {
          "output_type": "execute_result",
          "data": {
            "text/plain": [
              "Text(0.5, 1.0, 'Modelo para expectativa de vida en México')"
            ]
          },
          "metadata": {
            "tags": []
          },
          "execution_count": 23
        },
        {
          "output_type": "display_data",
          "data": {
            "image/png": "[encoded data removed]",
            "text/plain": [
              "<Figure size 720x504 with 1 Axes>"
            ]
          },
          "metadata": {
            "tags": [],
            "needs_background": "light"
          }
        }
      ]
    },
    {
      "cell_type": "code",
      "metadata": {
        "colab": {
          "base_uri": "https://localhost:8080/"
        },
        "id": "jHTBarl4fjhy",
        "outputId": "c7c9022f-bf26-41e1-e537-4a74d1a8ef47"
      },
      "source": [
        "print('Valor de la pendiente o coeficiente \"a\":')\n",
        "print(pr.coef_)\n",
        "print('Valor de la intersección o coeficiente \"b\":')\n",
        "print(pr.intercept_)"
      ],
      "execution_count": 24,
      "outputs": [
        {
          "output_type": "stream",
          "text": [
            "Valor de la pendiente o coeficiente \"a\":\n",
            "[ 0.00000000e+00  2.23911948e+01 -5.54698891e-03]\n",
            "Valor de la intersección o coeficiente \"b\":\n",
            "-22520.699856990246\n"
          ],
          "name": "stdout"
        }
      ]
    },
    {
      "cell_type": "code",
      "metadata": {
        "colab": {
          "base_uri": "https://localhost:8080/"
        },
        "id": "bXeLH8H6fvyy",
        "outputId": "335151b7-6008-46f7-e91b-d28609c272f2"
      },
      "source": [
        "print('Precisión del modelo:')\n",
        "print(pr.score(X_train_poli, y_train_p))"
      ],
      "execution_count": 25,
      "outputs": [
        {
          "output_type": "stream",
          "text": [
            "Precisión del modelo:\n",
            "0.99511240136277\n"
          ],
          "name": "stdout"
        }
      ]
    },
    {
      "cell_type": "code",
      "metadata": {
        "colab": {
          "base_uri": "https://localhost:8080/"
        },
        "id": "9oKHsVFPgClR",
        "outputId": "f8a7511a-20a4-4300-8086-a66196edf204"
      },
      "source": [
        "X_p = np.arange(2021,2024).reshape(-1,1)\n",
        "X_p_transformado = poli_reg.fit_transform(X_p)\n",
        "prediccionmexico = pr.predict(X_p_transformado)\n",
        "prediccionmexico"
      ],
      "execution_count": 26,
      "outputs": [
        {
          "output_type": "execute_result",
          "data": {
            "text/plain": [
              "array([75.55584089, 75.5205595 , 75.47418414])"
            ]
          },
          "metadata": {
            "tags": []
          },
          "execution_count": 26
        }
      ]
    },
    {
      "cell_type": "markdown",
      "metadata": {
        "id": "zR4etVNO4hTk"
      },
      "source": [
        "##Proyección de la expectativa de vida en México los proximos años"
      ]
    },
    {
      "cell_type": "code",
      "metadata": {
        "colab": {
          "base_uri": "https://localhost:8080/",
          "height": 475
        },
        "id": "1hdrL5hpj574",
        "outputId": "ea658ad1-d004-4233-d34f-ffc88e7e87b9"
      },
      "source": [
        "año21 = mpatches.Patch(color='red', label= round(prediccionmexico[0],2))\n",
        "año22 = mpatches.Patch(color='blue', label= round(prediccionmexico[1],2))\n",
        "año23 = mpatches.Patch(color='black', label= round(prediccionmexico[2],2))\n",
        "plt.figure(figsize=(10,7))\n",
        "plt.bar([2021,2022,2023],prediccionmexico, color = ['r','b','black'])\n",
        "plt.xticks([2021,2022,2023])\n",
        "plt.xlabel('Años')\n",
        "plt.ylabel('Espectativa de vida')\n",
        "plt.ylim(0,90)\n",
        "plt.legend(handles=[año21,año22,año23], loc='upper left', fontsize=16)\n",
        "plt.title('Espectativa de vida en los siguientes años en México')"
      ],
      "execution_count": 28,
      "outputs": [
        {
          "output_type": "execute_result",
          "data": {
            "text/plain": [
              "Text(0.5, 1.0, 'Espectativa de vida en los siguientes años en México')"
            ]
          },
          "metadata": {
            "tags": []
          },
          "execution_count": 28
        },
        {
          "output_type": "display_data",
          "data": {
            "image/png": "[encoded data removed]",
            "text/plain": [
              "<Figure size 720x504 with 1 Axes>"
            ]
          },
          "metadata": {
            "tags": [],
            "needs_background": "light"
          }
        }
      ]
    },
    {
      "cell_type": "code",
      "metadata": {
        "id": "Ky6joMpNBqi3"
      },
      "source": [
        "USA = df[df['Entity'] == 'United States'] #Filtramos los datos de USA"
      ],
      "execution_count": 29,
      "outputs": []
    },
    {
      "cell_type": "code",
      "metadata": {
        "colab": {
          "base_uri": "https://localhost:8080/",
          "height": 475
        },
        "id": "aOXVP85vho4B",
        "outputId": "077bbb17-9ce8-4bfb-c17c-58ee8610a895"
      },
      "source": [
        "plt.figure(figsize=(10,7))\n",
        "plt.scatter(x = range(1949,2019), y = USA.mean())\n",
        "plt.title('Espectativa de vida USA')\n",
        "plt.xlabel('Años')\n",
        "plt.ylabel('Edad')"
      ],
      "execution_count": 30,
      "outputs": [
        {
          "output_type": "execute_result",
          "data": {
            "text/plain": [
              "Text(0, 0.5, 'Edad')"
            ]
          },
          "metadata": {
            "tags": []
          },
          "execution_count": 30
        },
        {
          "output_type": "display_data",
          "data": {
            "image/png": "[encoded data removed]",
            "text/plain": [
              "<Figure size 720x504 with 1 Axes>"
            ]
          },
          "metadata": {
            "tags": [],
            "needs_background": "light"
          }
        }
      ]
    },
    {
      "cell_type": "markdown",
      "metadata": {
        "id": "rhhizwH84z0C"
      },
      "source": [
        "#Creación de modelo de regresión lineal para los datos de USA"
      ]
    },
    {
      "cell_type": "code",
      "metadata": {
        "id": "Dg_wod-Ohq0x"
      },
      "source": [
        "regresion_lineal_usa = LinearRegression()"
      ],
      "execution_count": 31,
      "outputs": []
    },
    {
      "cell_type": "code",
      "metadata": {
        "id": "VEHO9if_iX1f"
      },
      "source": [
        "x_usa = np.arange(1949,2019).reshape(-1,1)\n",
        "y_usa = USA.mean()\n",
        "X_train_usa, X_test_usa, y_train_usa, y_test_usa = train_test_split(x_usa,y_usa, test_size=0.2)"
      ],
      "execution_count": 32,
      "outputs": []
    },
    {
      "cell_type": "code",
      "metadata": {
        "id": "pS3oiAdOioYH"
      },
      "source": [
        "regresion_lineal_usa.fit(X_train_usa, y_train_usa)\n",
        "Y_predict = regresion_lineal_usa.predict(X_test_usa)"
      ],
      "execution_count": 33,
      "outputs": []
    },
    {
      "cell_type": "code",
      "metadata": {
        "colab": {
          "base_uri": "https://localhost:8080/",
          "height": 458
        },
        "id": "eWt2r6Eriw6v",
        "outputId": "a9f148ec-ac66-4acc-90f0-0b3106514b53"
      },
      "source": [
        "plt.figure(figsize=(10,7))\n",
        "plt.scatter(X_test_usa, y_test_usa)\n",
        "plt.plot(X_test_usa, Y_predict, color='red', linewidth =3)\n",
        "plt.title('Regresión Lineal Simple')\n",
        "plt.xlabel('Año')\n",
        "plt.ylabel('Espectativa de vida')\n",
        "plt.show()"
      ],
      "execution_count": 34,
      "outputs": [
        {
          "output_type": "display_data",
          "data": {
            "image/png": "[encoded data removed]",
            "text/plain": [
              "<Figure size 720x504 with 1 Axes>"
            ]
          },
          "metadata": {
            "tags": [],
            "needs_background": "light"
          }
        }
      ]
    },
    {
      "cell_type": "code",
      "metadata": {
        "colab": {
          "base_uri": "https://localhost:8080/"
        },
        "id": "2Soq0Vbfi4uf",
        "outputId": "5cfb008e-fbfb-4484-8e29-b4022d523554"
      },
      "source": [
        "print('Los coeficientes son' +' '+ 'a = ' + str(regresion_lineal_usa.coef_) + ', b = ' + str(regresion_lineal_usa.intercept_) + \n",
        "      ' y tiene una presición de' + ' '+ str(regresion_lineal_usa.score(X_train, y_train)))"
      ],
      "execution_count": 35,
      "outputs": [
        {
          "output_type": "stream",
          "text": [
            "Los coeficientes son a = [0.17126969], b = -265.6492112702599 y tiene una presición de -1.7460636221167711\n"
          ],
          "name": "stdout"
        }
      ]
    },
    {
      "cell_type": "markdown",
      "metadata": {
        "id": "tJrZfCd94uf9"
      },
      "source": [
        "##Proyección de la expectativa de USA los proximos años"
      ]
    },
    {
      "cell_type": "code",
      "metadata": {
        "colab": {
          "base_uri": "https://localhost:8080/",
          "height": 492
        },
        "id": "ma4CtvCJjBFP",
        "outputId": "98b5832d-e517-4d3a-a6ab-1ce59ff40a03"
      },
      "source": [
        "X = np.arange(2021,2024).reshape(-1,1)\n",
        "prediccion_usa = regresion_lineal_usa.predict(X)\n",
        "print(prediccion_usa)\n",
        "año21 = mpatches.Patch(color='red', label= round(prediccion[0],2))\n",
        "año22 = mpatches.Patch(color='blue', label= round(prediccion[1],2))\n",
        "año23 = mpatches.Patch(color='black', label= round(prediccion[2],2))\n",
        "plt.figure(figsize=(10,7))\n",
        "plt.bar([2021,2022,2023],prediccion_usa, color = ['r','b','black'])\n",
        "plt.xticks([2021,2022,2023])\n",
        "plt.xlabel('Años')\n",
        "plt.ylabel('Espectativa de vida')\n",
        "plt.ylim(0,90)\n",
        "plt.legend(handles=[año21,año22,año23], loc='upper left', fontsize=16)\n",
        "plt.title('Espectativa de vida en los siguientes años en USA')"
      ],
      "execution_count": 37,
      "outputs": [
        {
          "output_type": "stream",
          "text": [
            "[80.48684169 80.65811138 80.82938108]\n"
          ],
          "name": "stdout"
        },
        {
          "output_type": "execute_result",
          "data": {
            "text/plain": [
              "Text(0.5, 1.0, 'Espectativa de vida en los siguientes años en USA')"
            ]
          },
          "metadata": {
            "tags": []
          },
          "execution_count": 37
        },
        {
          "output_type": "display_data",
          "data": {
            "image/png": "[encoded data removed]",
            "text/plain": [
              "<Figure size 720x504 with 1 Axes>"
            ]
          },
          "metadata": {
            "tags": [],
            "needs_background": "light"
          }
        }
      ]
    },
    {
      "cell_type": "code",
      "metadata": {
        "colab": {
          "base_uri": "https://localhost:8080/"
        },
        "id": "9CPxbaU5jNV2",
        "outputId": "3f663f34-d0ff-46f8-ea09-a583d4c8da93"
      },
      "source": [
        "print('Precisión del modelo:')\n",
        "print(regresion_lineal_usa.score(X_train_usa, y_train_usa))"
      ],
      "execution_count": 39,
      "outputs": [
        {
          "output_type": "stream",
          "text": [
            "Precisión del modelo:\n",
            "0.9853343306421163\n"
          ],
          "name": "stdout"
        }
      ]
    },
    {
      "cell_type": "markdown",
      "metadata": {
        "id": "Q1kWkzbU5Daa"
      },
      "source": [
        "###Según el último informe sobre Desarrollo Humano realizado por el PNUD en el año 2019, los cinco países más desarrollados del mundo son:\n",
        "\n",
        "***Noruega, Suiza, Irlanda, Alemania***"
      ]
    },
    {
      "cell_type": "code",
      "metadata": {
        "id": "aiKRFM7n47R0"
      },
      "source": [
        "Noruega = df[df['Entity'] == 'Norway'] #Filtramos los datos de Noruega\n",
        "Suiza = df[df['Entity'] == 'Switzerland'] #Filtramos los datos de Suiza\n",
        "Irlanda = df[df['Entity'] == 'Ireland'] #Filtramos los datos de Irlanda\n",
        "Alemania = df[df['Entity'] == 'Germany'] #Filtramos los datos de Alemania"
      ],
      "execution_count": 46,
      "outputs": []
    },
    {
      "cell_type": "code",
      "metadata": {
        "colab": {
          "base_uri": "https://localhost:8080/",
          "height": 747
        },
        "id": "q72AZMR-6X1R",
        "outputId": "b252456c-79e8-48fb-8528-8851d4da63c4"
      },
      "source": [
        "figure, axes = plt.subplots(figsize = (15,12))\n",
        "plt.subplot(221)\n",
        "p1 = plt.scatter(x = range(1949,2019), y = Noruega.mean())\n",
        "plt.title('Espectativa de vida Noruega')\n",
        "plt.xlabel('Años')\n",
        "plt.ylabel('Edad')\n",
        "\n",
        "plt.subplot(222)\n",
        "p2 = plt.scatter(x = range(1949,2019), y = Suiza.mean())\n",
        "plt.title('Espectativa de vida Suiza')\n",
        "plt.xlabel('Años')\n",
        "plt.ylabel('Edad')\n",
        "\n",
        "plt.subplot(223)\n",
        "p3 = plt.scatter(x = range(1949,2019), y = Irlanda.mean())\n",
        "plt.title('Espectativa de vida Irlanda')\n",
        "plt.xlabel('Años')\n",
        "plt.ylabel('Edad')\n",
        "\n",
        "plt.subplot(224)\n",
        "p4 = plt.scatter(x = range(1949,2019), y = Alemania.mean())\n",
        "plt.title('Espectativa de vida Alemania')\n",
        "plt.xlabel('Años')\n",
        "plt.ylabel('Edad')"
      ],
      "execution_count": 49,
      "outputs": [
        {
          "output_type": "execute_result",
          "data": {
            "text/plain": [
              "Text(0, 0.5, 'Edad')"
            ]
          },
          "metadata": {
            "tags": []
          },
          "execution_count": 49
        },
        {
          "output_type": "display_data",
          "data": {
            "image/png": "[encoded data removed]",
            "text/plain": [
              "<Figure size 1080x864 with 4 Axes>"
            ]
          },
          "metadata": {
            "tags": [],
            "needs_background": "light"
          }
        }
      ]
    },
    {
      "cell_type": "markdown",
      "metadata": {
        "id": "qK8onbjk8SSu"
      },
      "source": [
        "###Según el último informe sobre Desarrollo Humano realizado por el PNUD en el año 2019, los cinco países más desarrollados del mundo son:\n",
        "\n",
        "***Angola, Benín, Burkina Faso​, Burundi​***"
      ]
    },
    {
      "cell_type": "code",
      "metadata": {
        "id": "wfpMb0rA8Zbz"
      },
      "source": [
        "Angola = df[df['Entity'] == 'Angola'] #Filtramos los datos de Angola\n",
        "Benín = df[df['Entity'] == 'Benin'] #Filtramos los datos de Benín\n",
        "Burkina = df[df['Entity'] == 'Burkina Faso'] #Filtramos los datos de Burkina\n",
        "Burundi = df[df['Entity'] == 'Burundi'] #Filtramos los datos de Alemania"
      ],
      "execution_count": 55,
      "outputs": []
    },
    {
      "cell_type": "code",
      "metadata": {
        "colab": {
          "base_uri": "https://localhost:8080/",
          "height": 747
        },
        "id": "ajDdNuCR848y",
        "outputId": "32272f9a-65dd-491f-8329-c424286f9dba"
      },
      "source": [
        "figure, axes = plt.subplots(figsize = (15,12))\n",
        "plt.subplot(221)\n",
        "p1 = plt.scatter(x = range(1949,2019), y = Angola.mean())\n",
        "plt.title('Espectativa de vida Angola')\n",
        "plt.xlabel('Años')\n",
        "plt.ylabel('Edad')\n",
        "\n",
        "plt.subplot(222)\n",
        "p2 = plt.scatter(x = range(1949,2019), y = Benín.mean())\n",
        "plt.title('Espectativa de vida Benín')\n",
        "plt.xlabel('Años')\n",
        "plt.ylabel('Edad')\n",
        "\n",
        "plt.subplot(223)\n",
        "p3 = plt.scatter(x = range(1949,2019), y = Burkina.mean())\n",
        "plt.title('Espectativa de vida Burkina Faso')\n",
        "plt.xlabel('Años')\n",
        "plt.ylabel('Edad')\n",
        "\n",
        "plt.subplot(224)\n",
        "p4 = plt.scatter(x = range(1949,2019), y = Burundi.mean())\n",
        "plt.title('Espectativa de vida Burundi')\n",
        "plt.xlabel('Años')\n",
        "plt.ylabel('Edad')"
      ],
      "execution_count": 56,
      "outputs": [
        {
          "output_type": "execute_result",
          "data": {
            "text/plain": [
              "Text(0, 0.5, 'Edad')"
            ]
          },
          "metadata": {
            "tags": []
          },
          "execution_count": 56
        },
        {
          "output_type": "display_data",
          "data": {
            "image/png": "[encoded data removed]",
            "text/plain": [
              "<Figure size 1080x864 with 4 Axes>"
            ]
          },
          "metadata": {
            "tags": [],
            "needs_background": "light"
          }
        }
      ]
    },
    {
      "cell_type": "markdown",
      "metadata": {
        "id": "Sb6csYnmHahv"
      },
      "source": [
        "#Comparamos ahora la evolución del tamaño de la población"
      ]
    },
    {
      "cell_type": "code",
      "metadata": {
        "id": "YK84c9we9Edx"
      },
      "source": [
        "poblacion = pd.read_csv('/content/drive/MyDrive/machinelearning/demografia.csv') #datos demograficos"
      ],
      "execution_count": 57,
      "outputs": []
    },
    {
      "cell_type": "code",
      "metadata": {
        "colab": {
          "base_uri": "https://localhost:8080/",
          "height": 240
        },
        "id": "iYCrHD8f_TRO",
        "outputId": "59d33b77-c146-4b40-ba74-5c9c1ca6093e"
      },
      "source": [
        "poblacion.head()"
      ],
      "execution_count": 58,
      "outputs": [
        {
          "output_type": "execute_result",
          "data": {
            "text/html": [
              "<div>\n",
              "<style scoped>\n",
              "    .dataframe tbody tr th:only-of-type {\n",
              "        vertical-align: middle;\n",
              "    }\n",
              "\n",
              "    .dataframe tbody tr th {\n",
              "        vertical-align: top;\n",
              "    }\n",
              "\n",
              "    .dataframe thead th {\n",
              "        text-align: right;\n",
              "    }\n",
              "</style>\n",
              "<table border=\"1\" class=\"dataframe\">\n",
              "  <thead>\n",
              "    <tr style=\"text-align: right;\">\n",
              "      <th></th>\n",
              "      <th>Country Name</th>\n",
              "      <th>Country Code</th>\n",
              "      <th>1960</th>\n",
              "      <th>1961</th>\n",
              "      <th>1962</th>\n",
              "      <th>1963</th>\n",
              "      <th>1964</th>\n",
              "      <th>1965</th>\n",
              "      <th>1966</th>\n",
              "      <th>1967</th>\n",
              "      <th>1968</th>\n",
              "      <th>1969</th>\n",
              "      <th>1970</th>\n",
              "      <th>1971</th>\n",
              "      <th>1972</th>\n",
              "      <th>1973</th>\n",
              "      <th>1974</th>\n",
              "      <th>1975</th>\n",
              "      <th>1976</th>\n",
              "      <th>1977</th>\n",
              "      <th>1978</th>\n",
              "      <th>1979</th>\n",
              "      <th>1980</th>\n",
              "      <th>1981</th>\n",
              "      <th>1982</th>\n",
              "      <th>1983</th>\n",
              "      <th>1984</th>\n",
              "      <th>1985</th>\n",
              "      <th>1986</th>\n",
              "      <th>1987</th>\n",
              "      <th>1988</th>\n",
              "      <th>1989</th>\n",
              "      <th>1990</th>\n",
              "      <th>1991</th>\n",
              "      <th>1992</th>\n",
              "      <th>1993</th>\n",
              "      <th>1994</th>\n",
              "      <th>1995</th>\n",
              "      <th>1996</th>\n",
              "      <th>1997</th>\n",
              "      <th>1998</th>\n",
              "      <th>1999</th>\n",
              "      <th>2000</th>\n",
              "      <th>2001</th>\n",
              "      <th>2002</th>\n",
              "      <th>2003</th>\n",
              "      <th>2004</th>\n",
              "      <th>2005</th>\n",
              "      <th>2006</th>\n",
              "      <th>2007</th>\n",
              "      <th>2008</th>\n",
              "      <th>2009</th>\n",
              "      <th>2010</th>\n",
              "      <th>2011</th>\n",
              "      <th>2012</th>\n",
              "      <th>2013</th>\n",
              "      <th>2014</th>\n",
              "      <th>2015</th>\n",
              "      <th>2016</th>\n",
              "      <th>2017</th>\n",
              "      <th>2018</th>\n",
              "      <th>2019</th>\n",
              "    </tr>\n",
              "  </thead>\n",
              "  <tbody>\n",
              "    <tr>\n",
              "      <th>0</th>\n",
              "      <td>Aruba</td>\n",
              "      <td>ABW</td>\n",
              "      <td>54211.0</td>\n",
              "      <td>55438.0</td>\n",
              "      <td>56225.0</td>\n",
              "      <td>56695.0</td>\n",
              "      <td>57032.0</td>\n",
              "      <td>57360.0</td>\n",
              "      <td>57715.0</td>\n",
              "      <td>58055.0</td>\n",
              "      <td>58386.0</td>\n",
              "      <td>58726.0</td>\n",
              "      <td>59063.0</td>\n",
              "      <td>59440.0</td>\n",
              "      <td>59840.0</td>\n",
              "      <td>60243.0</td>\n",
              "      <td>60528.0</td>\n",
              "      <td>60657.0</td>\n",
              "      <td>60586.0</td>\n",
              "      <td>60366.0</td>\n",
              "      <td>60103.0</td>\n",
              "      <td>59980.0</td>\n",
              "      <td>60096.0</td>\n",
              "      <td>60567.0</td>\n",
              "      <td>61345.0</td>\n",
              "      <td>62201.0</td>\n",
              "      <td>62836.0</td>\n",
              "      <td>63026.0</td>\n",
              "      <td>62644.0</td>\n",
              "      <td>61833.0</td>\n",
              "      <td>61079.0</td>\n",
              "      <td>61032.0</td>\n",
              "      <td>62149.0</td>\n",
              "      <td>64622.0</td>\n",
              "      <td>68235.0</td>\n",
              "      <td>72504.0</td>\n",
              "      <td>76700.0</td>\n",
              "      <td>80324.0</td>\n",
              "      <td>83200.0</td>\n",
              "      <td>85451.0</td>\n",
              "      <td>87277.0</td>\n",
              "      <td>89005.0</td>\n",
              "      <td>90853.0</td>\n",
              "      <td>92898.0</td>\n",
              "      <td>94992.0</td>\n",
              "      <td>97017.0</td>\n",
              "      <td>98737.0</td>\n",
              "      <td>100031.0</td>\n",
              "      <td>100834.0</td>\n",
              "      <td>101222.0</td>\n",
              "      <td>101358.0</td>\n",
              "      <td>101455.0</td>\n",
              "      <td>101669.0</td>\n",
              "      <td>102046.0</td>\n",
              "      <td>102560.0</td>\n",
              "      <td>103159.0</td>\n",
              "      <td>103774.0</td>\n",
              "      <td>104341.0</td>\n",
              "      <td>104872.0</td>\n",
              "      <td>105366.0</td>\n",
              "      <td>105845.0</td>\n",
              "      <td>106314.0</td>\n",
              "    </tr>\n",
              "    <tr>\n",
              "      <th>1</th>\n",
              "      <td>Afghanistan</td>\n",
              "      <td>AFG</td>\n",
              "      <td>8996973.0</td>\n",
              "      <td>9169410.0</td>\n",
              "      <td>9351441.0</td>\n",
              "      <td>9543205.0</td>\n",
              "      <td>9744781.0</td>\n",
              "      <td>9956320.0</td>\n",
              "      <td>10174836.0</td>\n",
              "      <td>10399926.0</td>\n",
              "      <td>10637063.0</td>\n",
              "      <td>10893776.0</td>\n",
              "      <td>11173642.0</td>\n",
              "      <td>11475445.0</td>\n",
              "      <td>11791215.0</td>\n",
              "      <td>12108963.0</td>\n",
              "      <td>12412950.0</td>\n",
              "      <td>12689160.0</td>\n",
              "      <td>12943093.0</td>\n",
              "      <td>13171306.0</td>\n",
              "      <td>13341198.0</td>\n",
              "      <td>13411056.0</td>\n",
              "      <td>13356511.0</td>\n",
              "      <td>13171673.0</td>\n",
              "      <td>12882528.0</td>\n",
              "      <td>12537730.0</td>\n",
              "      <td>12204292.0</td>\n",
              "      <td>11938208.0</td>\n",
              "      <td>11736179.0</td>\n",
              "      <td>11604534.0</td>\n",
              "      <td>11618005.0</td>\n",
              "      <td>11868877.0</td>\n",
              "      <td>12412308.0</td>\n",
              "      <td>13299017.0</td>\n",
              "      <td>14485546.0</td>\n",
              "      <td>15816603.0</td>\n",
              "      <td>17075727.0</td>\n",
              "      <td>18110657.0</td>\n",
              "      <td>18853437.0</td>\n",
              "      <td>19357126.0</td>\n",
              "      <td>19737765.0</td>\n",
              "      <td>20170844.0</td>\n",
              "      <td>20779953.0</td>\n",
              "      <td>21606988.0</td>\n",
              "      <td>22600770.0</td>\n",
              "      <td>23680871.0</td>\n",
              "      <td>24726684.0</td>\n",
              "      <td>25654277.0</td>\n",
              "      <td>26433049.0</td>\n",
              "      <td>27100536.0</td>\n",
              "      <td>27722276.0</td>\n",
              "      <td>28394813.0</td>\n",
              "      <td>29185507.0</td>\n",
              "      <td>30117413.0</td>\n",
              "      <td>31161376.0</td>\n",
              "      <td>32269589.0</td>\n",
              "      <td>33370794.0</td>\n",
              "      <td>34413603.0</td>\n",
              "      <td>35383128.0</td>\n",
              "      <td>36296400.0</td>\n",
              "      <td>37172386.0</td>\n",
              "      <td>38041754.0</td>\n",
              "    </tr>\n",
              "    <tr>\n",
              "      <th>2</th>\n",
              "      <td>Angola</td>\n",
              "      <td>AGO</td>\n",
              "      <td>5454933.0</td>\n",
              "      <td>5531472.0</td>\n",
              "      <td>5608539.0</td>\n",
              "      <td>5679458.0</td>\n",
              "      <td>5735044.0</td>\n",
              "      <td>5770570.0</td>\n",
              "      <td>5781214.0</td>\n",
              "      <td>5774243.0</td>\n",
              "      <td>5771652.0</td>\n",
              "      <td>5803254.0</td>\n",
              "      <td>5890365.0</td>\n",
              "      <td>6040777.0</td>\n",
              "      <td>6248552.0</td>\n",
              "      <td>6496962.0</td>\n",
              "      <td>6761380.0</td>\n",
              "      <td>7024000.0</td>\n",
              "      <td>7279509.0</td>\n",
              "      <td>7533735.0</td>\n",
              "      <td>7790707.0</td>\n",
              "      <td>8058067.0</td>\n",
              "      <td>8341289.0</td>\n",
              "      <td>8640446.0</td>\n",
              "      <td>8952950.0</td>\n",
              "      <td>9278096.0</td>\n",
              "      <td>9614754.0</td>\n",
              "      <td>9961997.0</td>\n",
              "      <td>10320111.0</td>\n",
              "      <td>10689250.0</td>\n",
              "      <td>11068050.0</td>\n",
              "      <td>11454777.0</td>\n",
              "      <td>11848386.0</td>\n",
              "      <td>12248901.0</td>\n",
              "      <td>12657366.0</td>\n",
              "      <td>13075049.0</td>\n",
              "      <td>13503747.0</td>\n",
              "      <td>13945206.0</td>\n",
              "      <td>14400719.0</td>\n",
              "      <td>14871570.0</td>\n",
              "      <td>15359601.0</td>\n",
              "      <td>15866869.0</td>\n",
              "      <td>16395473.0</td>\n",
              "      <td>16945753.0</td>\n",
              "      <td>17519417.0</td>\n",
              "      <td>18121479.0</td>\n",
              "      <td>18758145.0</td>\n",
              "      <td>19433602.0</td>\n",
              "      <td>20149901.0</td>\n",
              "      <td>20905363.0</td>\n",
              "      <td>21695634.0</td>\n",
              "      <td>22514281.0</td>\n",
              "      <td>23356246.0</td>\n",
              "      <td>24220661.0</td>\n",
              "      <td>25107931.0</td>\n",
              "      <td>26015780.0</td>\n",
              "      <td>26941779.0</td>\n",
              "      <td>27884381.0</td>\n",
              "      <td>28842484.0</td>\n",
              "      <td>29816748.0</td>\n",
              "      <td>30809762.0</td>\n",
              "      <td>31825295.0</td>\n",
              "    </tr>\n",
              "    <tr>\n",
              "      <th>3</th>\n",
              "      <td>Albania</td>\n",
              "      <td>ALB</td>\n",
              "      <td>1608800.0</td>\n",
              "      <td>1659800.0</td>\n",
              "      <td>1711319.0</td>\n",
              "      <td>1762621.0</td>\n",
              "      <td>1814135.0</td>\n",
              "      <td>1864791.0</td>\n",
              "      <td>1914573.0</td>\n",
              "      <td>1965598.0</td>\n",
              "      <td>2022272.0</td>\n",
              "      <td>2081695.0</td>\n",
              "      <td>2135479.0</td>\n",
              "      <td>2187853.0</td>\n",
              "      <td>2243126.0</td>\n",
              "      <td>2296752.0</td>\n",
              "      <td>2350124.0</td>\n",
              "      <td>2404831.0</td>\n",
              "      <td>2458526.0</td>\n",
              "      <td>2513546.0</td>\n",
              "      <td>2566266.0</td>\n",
              "      <td>2617832.0</td>\n",
              "      <td>2671997.0</td>\n",
              "      <td>2726056.0</td>\n",
              "      <td>2784278.0</td>\n",
              "      <td>2843960.0</td>\n",
              "      <td>2904429.0</td>\n",
              "      <td>2964762.0</td>\n",
              "      <td>3022635.0</td>\n",
              "      <td>3083605.0</td>\n",
              "      <td>3142336.0</td>\n",
              "      <td>3227943.0</td>\n",
              "      <td>3286542.0</td>\n",
              "      <td>3266790.0</td>\n",
              "      <td>3247039.0</td>\n",
              "      <td>3227287.0</td>\n",
              "      <td>3207536.0</td>\n",
              "      <td>3187784.0</td>\n",
              "      <td>3168033.0</td>\n",
              "      <td>3148281.0</td>\n",
              "      <td>3128530.0</td>\n",
              "      <td>3108778.0</td>\n",
              "      <td>3089027.0</td>\n",
              "      <td>3060173.0</td>\n",
              "      <td>3051010.0</td>\n",
              "      <td>3039616.0</td>\n",
              "      <td>3026939.0</td>\n",
              "      <td>3011487.0</td>\n",
              "      <td>2992547.0</td>\n",
              "      <td>2970017.0</td>\n",
              "      <td>2947314.0</td>\n",
              "      <td>2927519.0</td>\n",
              "      <td>2913021.0</td>\n",
              "      <td>2905195.0</td>\n",
              "      <td>2900401.0</td>\n",
              "      <td>2895092.0</td>\n",
              "      <td>2889104.0</td>\n",
              "      <td>2880703.0</td>\n",
              "      <td>2876101.0</td>\n",
              "      <td>2873457.0</td>\n",
              "      <td>2866376.0</td>\n",
              "      <td>2854191.0</td>\n",
              "    </tr>\n",
              "    <tr>\n",
              "      <th>4</th>\n",
              "      <td>Andorra</td>\n",
              "      <td>AND</td>\n",
              "      <td>13411.0</td>\n",
              "      <td>14375.0</td>\n",
              "      <td>15370.0</td>\n",
              "      <td>16412.0</td>\n",
              "      <td>17469.0</td>\n",
              "      <td>18549.0</td>\n",
              "      <td>19647.0</td>\n",
              "      <td>20758.0</td>\n",
              "      <td>21890.0</td>\n",
              "      <td>23058.0</td>\n",
              "      <td>24276.0</td>\n",
              "      <td>25559.0</td>\n",
              "      <td>26892.0</td>\n",
              "      <td>28232.0</td>\n",
              "      <td>29520.0</td>\n",
              "      <td>30705.0</td>\n",
              "      <td>31777.0</td>\n",
              "      <td>32771.0</td>\n",
              "      <td>33737.0</td>\n",
              "      <td>34818.0</td>\n",
              "      <td>36067.0</td>\n",
              "      <td>37500.0</td>\n",
              "      <td>39114.0</td>\n",
              "      <td>40867.0</td>\n",
              "      <td>42706.0</td>\n",
              "      <td>44600.0</td>\n",
              "      <td>46517.0</td>\n",
              "      <td>48455.0</td>\n",
              "      <td>50434.0</td>\n",
              "      <td>52448.0</td>\n",
              "      <td>54509.0</td>\n",
              "      <td>56671.0</td>\n",
              "      <td>58888.0</td>\n",
              "      <td>60971.0</td>\n",
              "      <td>62677.0</td>\n",
              "      <td>63850.0</td>\n",
              "      <td>64360.0</td>\n",
              "      <td>64327.0</td>\n",
              "      <td>64142.0</td>\n",
              "      <td>64370.0</td>\n",
              "      <td>65390.0</td>\n",
              "      <td>67341.0</td>\n",
              "      <td>70049.0</td>\n",
              "      <td>73182.0</td>\n",
              "      <td>76244.0</td>\n",
              "      <td>78867.0</td>\n",
              "      <td>80993.0</td>\n",
              "      <td>82684.0</td>\n",
              "      <td>83862.0</td>\n",
              "      <td>84463.0</td>\n",
              "      <td>84449.0</td>\n",
              "      <td>83747.0</td>\n",
              "      <td>82427.0</td>\n",
              "      <td>80774.0</td>\n",
              "      <td>79213.0</td>\n",
              "      <td>78011.0</td>\n",
              "      <td>77297.0</td>\n",
              "      <td>77001.0</td>\n",
              "      <td>77006.0</td>\n",
              "      <td>77142.0</td>\n",
              "    </tr>\n",
              "  </tbody>\n",
              "</table>\n",
              "</div>"
            ],
            "text/plain": [
              "  Country Name Country Code       1960  ...        2017        2018        2019\n",
              "0        Aruba          ABW    54211.0  ...    105366.0    105845.0    106314.0\n",
              "1  Afghanistan          AFG  8996973.0  ...  36296400.0  37172386.0  38041754.0\n",
              "2       Angola          AGO  5454933.0  ...  29816748.0  30809762.0  31825295.0\n",
              "3      Albania          ALB  1608800.0  ...   2873457.0   2866376.0   2854191.0\n",
              "4      Andorra          AND    13411.0  ...     77001.0     77006.0     77142.0\n",
              "\n",
              "[5 rows x 62 columns]"
            ]
          },
          "metadata": {
            "tags": []
          },
          "execution_count": 58
        }
      ]
    },
    {
      "cell_type": "code",
      "metadata": {
        "id": "y0I6VhGB_apc"
      },
      "source": [
        "Noruega_p = poblacion[poblacion['Country Name'] == 'Norway'] #Filtramos los datos de Noruega\n",
        "Suiza_p = poblacion[poblacion['Country Name'] == 'Switzerland'] #Filtramos los datos de Suiza\n",
        "Irlanda_p = poblacion[poblacion['Country Name'] == 'Ireland'] #Filtramos los datos de Irlanda\n",
        "Alemania_p = poblacion[poblacion['Country Name'] == 'Germany'] #Filtramos los datos de Alemania"
      ],
      "execution_count": 63,
      "outputs": []
    },
    {
      "cell_type": "code",
      "metadata": {
        "colab": {
          "base_uri": "https://localhost:8080/",
          "height": 747
        },
        "id": "JsZm4Ca4_rmq",
        "outputId": "7ec50a7f-8983-4891-f630-9fdcd1301796"
      },
      "source": [
        "figure, axes = plt.subplots(figsize = (15,12))\n",
        "plt.subplot(221)\n",
        "p1 = plt.scatter(x = range(1959,2019), y = Noruega_p.mean()/1000000)\n",
        "plt.title('Población en Noruega')\n",
        "plt.ticklabel_format(style=\"plain\", axis=\"y\")\n",
        "plt.xlabel('Años')\n",
        "plt.ylabel('Población (millones)')\n",
        "\n",
        "plt.subplot(222)\n",
        "p2 = plt.scatter(x = range(1959,2019), y = Suiza_p.mean()/1000000)\n",
        "plt.title('Población en Suiza')\n",
        "plt.ticklabel_format(style=\"plain\", axis=\"y\")\n",
        "plt.xlabel('Años')\n",
        "plt.ylabel('Población (millones)')\n",
        "\n",
        "plt.subplot(223)\n",
        "p3 = plt.scatter(x = range(1959,2019), y = Irlanda_p.mean()/1000000)\n",
        "plt.title('Población en Irlanda')\n",
        "plt.ticklabel_format(style=\"plain\", axis=\"y\")\n",
        "plt.xlabel('Años')\n",
        "plt.ylabel('Población (millones)')\n",
        "\n",
        "plt.subplot(224)\n",
        "p4 = plt.scatter(x = range(1959,2019), y = Alemania_p.mean()/1000000)\n",
        "plt.title('Población en Alemania')\n",
        "plt.ticklabel_format(style=\"plain\", axis=\"y\")\n",
        "plt.xlabel('Años')\n",
        "plt.ylabel('Población (millones)')"
      ],
      "execution_count": 109,
      "outputs": [
        {
          "output_type": "execute_result",
          "data": {
            "text/plain": [
              "Text(0, 0.5, 'Población (millones)')"
            ]
          },
          "metadata": {
            "tags": []
          },
          "execution_count": 109
        },
        {
          "output_type": "display_data",
          "data": {
            "image/png": "[encoded data removed]",
            "text/plain": [
              "<Figure size 1080x864 with 4 Axes>"
            ]
          },
          "metadata": {
            "tags": [],
            "needs_background": "light"
          }
        }
      ]
    },
    {
      "cell_type": "code",
      "metadata": {
        "id": "b0_z7yivGimd"
      },
      "source": [
        "Angola_p = poblacion[poblacion['Country Name'] == 'Angola'] #Filtramos los datos de Angola\n",
        "Benín_p = poblacion[poblacion['Country Name'] == 'Benin'] #Filtramos los datos de Benin\n",
        "Burkina_p = poblacion[poblacion['Country Name'] == 'Burkina Faso'] #Filtramos los datos de Burkina\n",
        "Burundi_p = poblacion[poblacion['Country Name'] == 'Burundi'] #Filtramos los datos de Burundi"
      ],
      "execution_count": 114,
      "outputs": []
    },
    {
      "cell_type": "code",
      "metadata": {
        "colab": {
          "base_uri": "https://localhost:8080/",
          "height": 747
        },
        "id": "cbtCF6coHBwo",
        "outputId": "0c060fcd-1b02-445a-c6ee-333d251c6f71"
      },
      "source": [
        "figure, axes = plt.subplots(figsize = (15,12))\n",
        "plt.subplot(221)\n",
        "p1 = plt.scatter(x = range(1959,2019), y = Angola_p.mean()/1000000)\n",
        "plt.title('Población en Angola')\n",
        "plt.ticklabel_format(style=\"plain\", axis=\"y\")\n",
        "plt.xlabel('Años')\n",
        "plt.ylabel('Población (millones)')\n",
        "\n",
        "plt.subplot(222)\n",
        "p2 = plt.scatter(x = range(1959,2019), y = Benín_p.mean()/1000000)\n",
        "plt.title('Población en Benín')\n",
        "plt.ticklabel_format(style=\"plain\", axis=\"y\")\n",
        "plt.xlabel('Años')\n",
        "plt.ylabel('Población (millones)')\n",
        "\n",
        "plt.subplot(223)\n",
        "p3 = plt.scatter(x = range(1959,2019), y = Burkina_p.mean()/1000000)\n",
        "plt.title('Población en Burkina Faso')\n",
        "plt.ticklabel_format(style=\"plain\", axis=\"y\")\n",
        "plt.xlabel('Años')\n",
        "plt.ylabel('Población (millones)')\n",
        "\n",
        "plt.subplot(224)\n",
        "p4 = plt.scatter(x = range(1959,2019), y = Burundi_p.mean()/1000000)\n",
        "plt.title('Población en Burundi')\n",
        "plt.ticklabel_format(style=\"plain\", axis=\"y\")\n",
        "plt.xlabel('Años')\n",
        "plt.ylabel('Población (millones)')"
      ],
      "execution_count": 115,
      "outputs": [
        {
          "output_type": "execute_result",
          "data": {
            "text/plain": [
              "Text(0, 0.5, 'Población (millones)')"
            ]
          },
          "metadata": {
            "tags": []
          },
          "execution_count": 115
        },
        {
          "output_type": "display_data",
          "data": {
            "image/png": "[encoded data removed]",
            "text/plain": [
              "<Figure size 1080x864 with 4 Axes>"
            ]
          },
          "metadata": {
            "tags": [],
            "needs_background": "light"
          }
        }
      ]
    }
  ]
}